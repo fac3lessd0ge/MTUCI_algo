{
  "cells": [
    {
      "cell_type": "markdown",
      "metadata": {
        "colab_type": "text",
        "id": "view-in-github"
      },
      "source": [
        "<a href=\"https://colab.research.google.com/github/fac3lessd0ge/MTUCI_algo/blob/main/tasks/Tasks1_Garmash.ipynb\" target=\"_parent\"><img src=\"https://colab.research.google.com/assets/colab-badge.svg\" alt=\"Open In Colab\"/></a>"
      ]
    },
    {
      "cell_type": "markdown",
      "id": "244314fb",
      "metadata": {
        "id": "244314fb"
      },
      "source": [
        "# Задание 1"
      ]
    },
    {
      "cell_type": "markdown",
      "id": "64630386",
      "metadata": {
        "id": "64630386"
      },
      "source": [
        "Даны две строки: `s1` и `s2` с одинаковым размером.\n",
        "\n",
        "Проверьте, может ли некоторая перестановка строки `s1` “победить” некоторую перестановку строки `s2` или наоборот.\n",
        "\n",
        "Строка x может “победить” строку y (обе имеют размер n), если `x[i] >= y[i]` (в алфавитном порядке) для всех i от 0 до n-1.\n"
      ]
    },
    {
      "cell_type": "markdown",
      "id": "cf51dab2",
      "metadata": {
        "id": "cf51dab2"
      },
      "source": [
        "## Ввод"
      ]
    },
    {
      "cell_type": "markdown",
      "id": "d697a747",
      "metadata": {
        "id": "d697a747"
      },
      "source": [
        "`abc`\n",
        "`xya`"
      ]
    },
    {
      "cell_type": "markdown",
      "id": "50b10a2e",
      "metadata": {
        "id": "50b10a2e"
      },
      "source": [
        "## Вывод"
      ]
    },
    {
      "cell_type": "markdown",
      "id": "55442a49",
      "metadata": {
        "id": "55442a49"
      },
      "source": [
        "`True`\n",
        "\n",
        "### Исполняемый код записать в ячейку ниже:"
      ]
    },
    {
      "cell_type": "code",
      "execution_count": 1,
      "id": "bVgAvow_Fslj",
      "metadata": {
        "id": "bVgAvow_Fslj"
      },
      "outputs": [],
      "source": [
        "from itertools import permutations"
      ]
    },
    {
      "cell_type": "code",
      "execution_count": 17,
      "id": "3b0d440a",
      "metadata": {
        "id": "3b0d440a"
      },
      "outputs": [],
      "source": [
        "def get_permutations(some_string: str) -> list:\n",
        "    result = set(map(lambda x: ''.join(x), permutations(some_string)))\n",
        "    return result"
      ]
    },
    {
      "cell_type": "code",
      "execution_count": 1,
      "id": "cd67fd79",
      "metadata": {},
      "outputs": [
        {
          "name": "stdout",
          "output_type": "stream",
          "text": [
            "True\n"
          ]
        }
      ],
      "source": [
        "s1 = input('Первая строка: ')\n",
        "s2 = input('Вторая строка: ')\n",
        "\n",
        "def compare_str(s1, s2):\n",
        "    s1 = list(s1)\n",
        "    s1.sort()\n",
        "    s2 = list(s2)\n",
        "    s2.sort()\n",
        "    \n",
        "    for i in range(len(s1)):\n",
        "        if s1[i] > s2[i]:\n",
        "            return False\n",
        "    return True\n",
        "print(compare_str(s1,s2))"
      ]
    },
    {
      "cell_type": "code",
      "execution_count": 15,
      "id": "uwMuYrTcG8hE",
      "metadata": {
        "colab": {
          "base_uri": "https://localhost:8080/"
        },
        "id": "uwMuYrTcG8hE",
        "outputId": "9b0cba31-8fe6-4d0d-88d7-bf77a122318b"
      },
      "outputs": [
        {
          "data": {
            "text/plain": [
              "False"
            ]
          },
          "execution_count": 15,
          "metadata": {},
          "output_type": "execute_result"
        }
      ],
      "source": [
        "'ayz'[0] > 'xbc'[0]"
      ]
    },
    {
      "cell_type": "markdown",
      "id": "b3a969a6",
      "metadata": {
        "id": "b3a969a6"
      },
      "source": [
        "# Задание 2"
      ]
    },
    {
      "cell_type": "markdown",
      "id": "9c1ce05d",
      "metadata": {
        "id": "9c1ce05d"
      },
      "source": [
        "Дана строка `s`, вернуть самую длинную полиндромную подстроку в `s`."
      ]
    },
    {
      "cell_type": "markdown",
      "id": "20415c0e",
      "metadata": {
        "id": "20415c0e"
      },
      "source": [
        "## Ввод"
      ]
    },
    {
      "cell_type": "markdown",
      "id": "e77fcb44",
      "metadata": {
        "id": "e77fcb44"
      },
      "source": [
        "`babad`"
      ]
    },
    {
      "cell_type": "markdown",
      "id": "49996449",
      "metadata": {
        "id": "49996449"
      },
      "source": [
        "## Вывод"
      ]
    },
    {
      "cell_type": "markdown",
      "id": "75be2464",
      "metadata": {
        "id": "75be2464"
      },
      "source": [
        "`aba` или `bab`"
      ]
    },
    {
      "cell_type": "markdown",
      "id": "12ef9771",
      "metadata": {
        "id": "12ef9771"
      },
      "source": [
        "## Исполняемый код записывать в ячейку ниже"
      ]
    },
    {
      "cell_type": "code",
      "execution_count": 2,
      "id": "3f06c4fc",
      "metadata": {
        "id": "3f06c4fc"
      },
      "outputs": [
        {
          "name": "stdout",
          "output_type": "stream",
          "text": [
            "bab\n"
          ]
        }
      ],
      "source": [
        "def isPolindrome(s1:str):\n",
        "    return s1 == s1[::-1]\n",
        "def polindrome(s1:str):\n",
        "    polindromeLen = len(s1)\n",
        "    strLength = len(s1)\n",
        "    longest = False\n",
        "    while (polindromeLen >= 2):\n",
        "        for i in range(strLength - polindromeLen + 1):\n",
        "            if isPolindrome(s1[i:i+polindromeLen]):\n",
        "                longest = s1[i:i+polindromeLen]\n",
        "                polindromeLen = 0\n",
        "                break\n",
        "        polindromeLen -= 1\n",
        "    return longest\n",
        "print(polindrome(input()))"
      ]
    },
    {
      "cell_type": "markdown",
      "id": "5f54b630",
      "metadata": {
        "id": "5f54b630"
      },
      "source": [
        "# Задание 3"
      ]
    },
    {
      "cell_type": "markdown",
      "id": "566f1d3b",
      "metadata": {
        "id": "566f1d3b"
      },
      "source": [
        "Вернуть количество отдельных непустых подстрок текста, которые могут быть записаны как конкатенация некоторой строки с самой собой (т.е. она может быть записана, как `a + a`, где `a` - некоторая строка)."
      ]
    },
    {
      "cell_type": "markdown",
      "id": "0f734fd8",
      "metadata": {
        "id": "0f734fd8"
      },
      "source": [
        "## Ввод"
      ]
    },
    {
      "cell_type": "markdown",
      "id": "e0be5554",
      "metadata": {
        "id": "e0be5554"
      },
      "source": [
        "`aabb`"
      ]
    },
    {
      "cell_type": "markdown",
      "id": "ab8eda0b",
      "metadata": {
        "id": "ab8eda0b"
      },
      "source": [
        "## Вывод"
      ]
    },
    {
      "cell_type": "markdown",
      "id": "1d716d36",
      "metadata": {
        "id": "1d716d36"
      },
      "source": [
        "2"
      ]
    },
    {
      "cell_type": "markdown",
      "id": "fcd91349",
      "metadata": {
        "id": "fcd91349"
      },
      "source": [
        "## Исполняемый код записывать в ячейку ниже"
      ]
    },
    {
      "cell_type": "code",
      "execution_count": null,
      "id": "be07379d",
      "metadata": {
        "id": "be07379d"
      },
      "outputs": [],
      "source": [
        "string = input()\n",
        "def number_str(string):\n",
        "    number = 0\n",
        "    for i in range(len(string) - 1):\n",
        "        f = 2\n",
        "        while f <= len(string):\n",
        "            if string[i: i+ f // 2] == string[i + f //2: i + f]:\n",
        "                number += 1\n",
        "            f +=2\n",
        "    return number\n",
        "print(number_str(string))"
      ]
    }
  ],
  "metadata": {
    "colab": {
      "include_colab_link": true,
      "name": "Tasks1_Garmash.ipynb",
      "provenance": []
    },
    "interpreter": {
      "hash": "54eebe4bd519406a576e6049db654f74be4b37bdcd405e76f77af62a9c819326"
    },
    "kernelspec": {
      "display_name": "Python 3.10.2 64-bit",
      "language": "python",
      "name": "python3"
    },
    "language_info": {
      "codemirror_mode": {
        "name": "ipython",
        "version": 3
      },
      "file_extension": ".py",
      "mimetype": "text/x-python",
      "name": "python",
      "nbconvert_exporter": "python",
      "pygments_lexer": "ipython3",
      "version": "3.10.2"
    }
  },
  "nbformat": 4,
  "nbformat_minor": 5
}
