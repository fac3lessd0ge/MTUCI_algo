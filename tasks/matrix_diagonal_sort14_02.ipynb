{
  "nbformat": 4,
  "nbformat_minor": 0,
  "metadata": {
    "colab": {
      "name": "matrix_diagonal_sort14_02.ipynb",
      "provenance": [],
      "authorship_tag": "ABX9TyP6dY441/XRWCtughpDDTTa",
      "include_colab_link": true
    },
    "kernelspec": {
      "name": "python3",
      "display_name": "Python 3"
    },
    "language_info": {
      "name": "python"
    }
  },
  "cells": [
    {
      "cell_type": "markdown",
      "metadata": {
        "id": "view-in-github",
        "colab_type": "text"
      },
      "source": [
        "<a href=\"https://colab.research.google.com/github/fac3lessd0ge/MTUCI_algo/blob/main/tasks/matrix_diagonal_sort14_02.ipynb\" target=\"_parent\"><img src=\"https://colab.research.google.com/assets/colab-badge.svg\" alt=\"Open In Colab\"/></a>"
      ]
    },
    {
      "cell_type": "code",
      "execution_count": 55,
      "metadata": {
        "id": "XyX4Ag3BV4dO"
      },
      "outputs": [],
      "source": [
        "import numpy as np\n",
        "import time"
      ]
    },
    {
      "cell_type": "code",
      "source": [
        "def sample_matrix(low = 0, high = 20, size = (20, 5)):\n",
        "    return np.random.randint(low, high, size)"
      ],
      "metadata": {
        "id": "fk3gYIYaWZQy"
      },
      "execution_count": 56,
      "outputs": []
    },
    {
      "cell_type": "code",
      "source": [
        "print(sample_matrix())"
      ],
      "metadata": {
        "colab": {
          "base_uri": "https://localhost:8080/"
        },
        "id": "WBxcs6ChWx4I",
        "outputId": "28b2dfb6-0686-429f-fd23-c2c0ccb255d8"
      },
      "execution_count": 57,
      "outputs": [
        {
          "output_type": "stream",
          "name": "stdout",
          "text": [
            "[[ 1 11  4 14 13]\n",
            " [ 9  2  3  2 14]\n",
            " [ 3  7 10 16 19]\n",
            " [18  9 19  2  3]\n",
            " [10  2 18 12  4]\n",
            " [11 16  3  4 19]\n",
            " [ 3 16 17  4 13]\n",
            " [19  3  8  3  0]\n",
            " [ 5 19  1 18  2]\n",
            " [19  3 16 11  9]\n",
            " [12  5  0 13  5]\n",
            " [ 9  4  4 14 16]\n",
            " [17 11 18  5  5]\n",
            " [ 6 19 18 10 14]\n",
            " [ 3 14 12 17 19]\n",
            " [17  9  3 12 12]\n",
            " [10  4  1  3  3]\n",
            " [17  6 10  8 10]\n",
            " [ 1  0  8  5  2]\n",
            " [ 6  3 10 19  4]]\n"
          ]
        }
      ]
    },
    {
      "cell_type": "code",
      "source": [
        "def sort_diagonals(mat, size : tuple):\n",
        "    \"\"\"\n",
        "    size = (width, height)\n",
        "    \"\"\"\n",
        "\n",
        "    result = []\n",
        "\n",
        "    for i in range(size[0]-1, -1, -1):\n",
        "        temp = []\n",
        "        y = i\n",
        "        x = 0\n",
        "        while y <= size[0]-1 and x <= size[1]-1:\n",
        "            temp.append(mat[y][x])\n",
        "            y+=1\n",
        "            x+=1\n",
        "        result.append(temp)\n",
        "\n",
        "    for i in range(1, size[1]):\n",
        "        temp = []\n",
        "        y = 0\n",
        "        x = i\n",
        "        while y <= size[0]-1 and x <= size[1]-1:\n",
        "            temp.append(mat[y][x])\n",
        "            y+=1\n",
        "            x+=1\n",
        "        result.append(temp)\n",
        "    \n",
        "    for diag in result:\n",
        "        diag.sort()\n",
        "    return result\n"
      ],
      "metadata": {
        "id": "NJrhaZlAW72m"
      },
      "execution_count": 58,
      "outputs": []
    },
    {
      "cell_type": "code",
      "source": [
        "a = sample_matrix(size=(20,20))\n",
        "print(a, '\\n\\n-----------------\\n')\n",
        "\n",
        "print(np.array(sort_diagonals(a, (20, 20)), dtype=object))"
      ],
      "metadata": {
        "colab": {
          "base_uri": "https://localhost:8080/"
        },
        "id": "TbHRtimdaHKa",
        "outputId": "f9943b1b-2847-44d4-ceac-07d62fd012df"
      },
      "execution_count": 59,
      "outputs": [
        {
          "output_type": "stream",
          "name": "stdout",
          "text": [
            "[[ 0  7  9 10 10 13  4 10 13 19 10 15  4 12  9  8  4 14 14  3]\n",
            " [ 5  7  9 12  9 14  9 10  7 19 14 11  0  2 11  2 19  1  6  0]\n",
            " [ 1  7  4  3 10 12 11  8 12  3  1 10  1  4 14  7  1 12 19 17]\n",
            " [ 3  2  1 19 14 15 16  6  6  5 17 17 17 17  0  6 10 17 14  4]\n",
            " [10  9  3 16  8 19  2 11 14  0  8  2 14  3 17 10 12 19 10  3]\n",
            " [ 7 12  8  8 16 17  7  3 17 19  0 17 18  4  7  4  7  8  8 16]\n",
            " [11  3  6  2 18  7 12 14  0 16 10  0 19  0 15 10 18  6 13 19]\n",
            " [ 8  8 16 15 10 19  1 14 15 15  4 18 11  5  8 16 18  0 10 10]\n",
            " [ 5 16 15  9  1 14 19  7 10  6 14  2 17  2 13 19 11  7 13 17]\n",
            " [16  3  9  6 17 14 15 17 10 11 17 19 10  6 12 14  9 12  1 16]\n",
            " [17 14  7 15 18 12  2  8 15 18 19  1 19  6 12  0 13  5 17  8]\n",
            " [ 6 19 12 16 10 10 16  3 13  4  7 12  9  0 11  5 14 11  4  1]\n",
            " [12  6 11  8 13 19 13 16  2  8 15 14  5  9 18 16  9 10  9 13]\n",
            " [ 2  1 17  8 17 12 19 17  3 16  6  7 17 10 12  9 14  5 17  1]\n",
            " [ 3  8 12  4  4  4  0  4 13  4 14 12 15 14  5  5  3  7 10  6]\n",
            " [ 1 12  8  8  1 13  5 12 18 19 17  0  6  7 14  2 15 13 19  4]\n",
            " [ 0 19  8 16 10 12 14  2 19  2 19  5  6 18  3 15 11 15  7  3]\n",
            " [ 9  9  9 15 10 19 19  4  5 17  4  8 13  2 10  6  3 16  6 11]\n",
            " [ 2  9 15 16  3 17 19 14  8 11  0 15 14  1  1  5  9  2  5 15]\n",
            " [11  1 17 18  0  9 12 14  8 15  4 19 17 14  7 11  0 12 14 17]] \n",
            "\n",
            "-----------------\n",
            "\n",
            "[list([11]) list([1, 2]) list([9, 9, 17]) list([0, 9, 15, 18])\n",
            " list([0, 1, 9, 16, 19]) list([3, 3, 8, 9, 12, 15])\n",
            " list([2, 8, 8, 10, 12, 16, 17]) list([1, 8, 10, 12, 12, 14, 19, 19])\n",
            " list([1, 4, 6, 6, 8, 12, 14, 17, 19])\n",
            " list([4, 4, 8, 8, 11, 13, 14, 15, 17, 19])\n",
            " list([2, 4, 4, 5, 5, 8, 11, 12, 14, 16, 17])\n",
            " list([0, 0, 3, 5, 7, 12, 12, 13, 16, 17, 19, 19])\n",
            " list([2, 4, 4, 8, 9, 10, 15, 15, 16, 17, 18, 19, 19])\n",
            " list([6, 8, 8, 10, 11, 13, 13, 14, 14, 15, 17, 18, 19, 19])\n",
            " list([1, 3, 3, 4, 5, 7, 7, 9, 12, 13, 16, 16, 16, 17, 17])\n",
            " list([0, 1, 1, 2, 2, 2, 3, 6, 6, 10, 11, 12, 14, 14, 15, 16])\n",
            " list([0, 2, 3, 5, 6, 6, 8, 8, 8, 9, 10, 10, 12, 13, 14, 15, 18])\n",
            " list([1, 2, 3, 3, 4, 6, 7, 7, 8, 9, 12, 15, 15, 15, 17, 18, 19, 19])\n",
            " list([1, 1, 2, 3, 5, 7, 7, 7, 7, 10, 14, 14, 14, 14, 15, 16, 16, 17, 18])\n",
            " list([0, 2, 4, 5, 5, 5, 7, 8, 10, 10, 11, 11, 12, 12, 14, 16, 17, 17, 19, 19])\n",
            " list([1, 3, 5, 6, 6, 7, 7, 9, 9, 9, 12, 14, 14, 15, 15, 15, 15, 17, 19])\n",
            " list([0, 0, 2, 3, 3, 7, 9, 9, 10, 11, 12, 13, 14, 15, 15, 18, 19, 19])\n",
            " list([2, 3, 4, 6, 7, 9, 10, 10, 11, 11, 12, 14, 16, 16, 16, 17, 19])\n",
            " list([4, 5, 5, 6, 6, 9, 10, 10, 10, 11, 12, 14, 14, 17, 18, 19])\n",
            " list([0, 0, 0, 0, 2, 6, 6, 8, 9, 10, 11, 12, 13, 14, 17])\n",
            " list([1, 4, 5, 5, 8, 9, 10, 11, 12, 13, 13, 14, 17, 19])\n",
            " list([0, 2, 3, 4, 5, 7, 8, 9, 10, 13, 17, 18, 19])\n",
            " list([1, 1, 4, 11, 12, 13, 14, 15, 16, 17, 17, 19])\n",
            " list([1, 3, 7, 7, 8, 10, 10, 14, 17, 18, 19])\n",
            " list([0, 1, 4, 10, 11, 13, 16, 17, 17, 18])\n",
            " list([0, 0, 4, 6, 7, 10, 10, 15, 17]) list([2, 4, 6, 8, 10, 12, 13, 14])\n",
            " list([7, 8, 10, 11, 12, 19, 19]) list([1, 2, 9, 10, 16, 17])\n",
            " list([3, 8, 12, 14, 19]) list([1, 4, 4, 19]) list([6, 14, 17])\n",
            " list([0, 14]) list([3])]\n"
          ]
        }
      ]
    },
    {
      "cell_type": "code",
      "source": [
        "def sort_matrix(mat, size: tuple):\n",
        "    diagonals = np.array(sort_diagonals(mat, size))\n",
        "\n",
        "    current_x = 0\n",
        "    current_y = 0\n",
        "\n",
        "\n",
        "    for i in range(size[0]-1, -1, -1):\n",
        "        y = i\n",
        "        x = 0\n",
        "        while y <= size[0]-1 and x <= size[1]-1:\n",
        "            mat[y][x] = diagonals[current_y][current_x]\n",
        "            y+=1\n",
        "            x+=1\n",
        "            current_x = (current_x + 1) % (len(diagonals[current_y]))\n",
        "            if current_x == 0: current_y = (current_y + 1) % (len(diagonals) + 1)\n",
        "\n",
        "\n",
        "\n",
        "    for i in range(1, size[1]):\n",
        "        y = 0\n",
        "        x = i\n",
        "        while y <= size[0]-1 and x <= size[1]-1:\n",
        "            mat[y][x] = diagonals[current_y][current_x]\n",
        "            y+=1\n",
        "            x+=1\n",
        "            current_x = (current_x + 1) % (len(diagonals[current_y]))\n",
        "            if current_x == 0: current_y += 1\n",
        "\n",
        "    return mat\n",
        "        "
      ],
      "metadata": {
        "id": "5dd8ID6maPSw"
      },
      "execution_count": 60,
      "outputs": []
    },
    {
      "cell_type": "code",
      "source": [
        "a = sample_matrix(size=(20,20))\n",
        "print(a, '\\n\\n-----------------\\n')\n",
        "\n",
        "print(sort_matrix(a,size =  (20, 20)), '\\n\\n')"
      ],
      "metadata": {
        "colab": {
          "base_uri": "https://localhost:8080/"
        },
        "id": "IouZ-62pfDOj",
        "outputId": "f9bf99b3-73fb-4f38-fc72-2cfa4348efe1"
      },
      "execution_count": 61,
      "outputs": [
        {
          "output_type": "stream",
          "name": "stdout",
          "text": [
            "[[19 17 10 13  2  8  3 14  4  5  4  1  7 15  5 11  7  5  8  4]\n",
            " [ 3 17 18 17 16  4 18 18  5  8  7 17 18  8  4  0 15  4  0  8]\n",
            " [19 11  7  8 14  4  9 12 12  5  6 18  8 12 17  5  4  6  8 16]\n",
            " [19  3  0 13  0  5  5  6  3 15 11 16 10  4 16 14  3 13  2 13]\n",
            " [ 7 10  0  5  9 11  7  8  6  7 13  6 12  4  6  6 18  2  6  2]\n",
            " [15  1  8  1  5  4 18  5 15  2 15  0  3  1 19 17  1  1 15  6]\n",
            " [ 3  6 16  9 17  7 16  6  9  5  5 13  8  2 18  4  5  6  9  6]\n",
            " [ 9  0  6  9 15 12  5  0 11 18 19 10  1  7  3  0  7  1 19  2]\n",
            " [ 1  2  2 15 18 14  0 16 12  4  6  0 13 11 18 18 16 12 18 16]\n",
            " [ 6 15 18  9  1 13 19 14 11 13 17 11 19  0 14 19  6 13 10 14]\n",
            " [ 5  1 13  1 16  9 14 13  5  3 10 10 12  3 13 17 14  4  4 10]\n",
            " [ 1 12  0  4  5 12  6  4  2  6  6  4 15  5 13 13 17 12  8  7]\n",
            " [ 4  2  3  7 16  0 18 12  0  8  3  1  6 19  4 14 16 13  7 17]\n",
            " [ 5  3 17 15 16 10  0 19 13  6 18  8 17  7 14  1 16 15 19 19]\n",
            " [11 15  1  0  2 16  8 13  8 19  9 10 10 14 10 16 13 15 10  9]\n",
            " [ 8  7 10 10 10 18 15 16 17 10 15  7  1  6  1  8 13  0 17  4]\n",
            " [ 7  7  2 19  1 16 12 13  2 16  6  4  6  9 18  5  3 12  8 10]\n",
            " [12  1  1 13  0  9 18  6  6 19  9 12 11 17 17 18 12 11 14  0]\n",
            " [13 12  2 14 13  2  2 12 19  6  1  4 14  2  0 13  4  6  6 12]\n",
            " [ 6  6  8 14  3  0  6 13 10  6  1  9  8 12 12  9 19 10 11  9]] \n",
            "\n",
            "-----------------\n",
            "\n",
            "[[ 0  0  0  0  0  1  0  2  0  4  1  1  1  2  0  2  4  0  8  4]\n",
            " [ 0  3  4  0  3  2  3  3  3  1  4  4  1  2  3  4  2  7  5  8]\n",
            " [ 0  1  4  6  1  4  2  7  7  3  4  5  4  6  7  4  5  6  8 16]\n",
            " [ 1  0  1  4  8  4  5  4  8  7  4  4  7  5  6  8  5  6 11 13]\n",
            " [ 0  2  1  3  6 10  5  5  4  9  8  5  6  7  6 12  9  6  6 15]\n",
            " [ 1  0  8  3  3  6 11  5  8  5 11 12  5  7 10  8 16 14 15 13]\n",
            " [ 0  2  1  8  3  5  7 11  5 10  6 12 12  6  8 10 14 16 17 15]\n",
            " [ 0  2  4  4  9  4  5  7 12  6 13  6 13 13  6 12 10 17 18 18]\n",
            " [ 1  0  3  6  6  9  5  5  8 12  7 13  9 13 14  8 13 12 17 19]\n",
            " [ 0  1  1  6  6  6 10  6  5  9 13  8 14 10 14 15 11 16 18 18]\n",
            " [ 2  1  2  2  8  6  7 10  6  6  9 14  9 15 10 15 18 14 16 19]\n",
            " [ 0  3  1  4  4  9  9  7 13  8  6 10 14 10 15 13 17 18 17 18]\n",
            " [ 1  1  5  6  8  5 10 11  9 13 10  7 10 15 11 16 13 17 19 18]\n",
            " [ 0  1  2  6  6  9  8 12 12  9 14 10 11 11 16 12 16 13 18 19]\n",
            " [ 0  2  2 10  6  6 10  9 12 12  9 15 12 11 12 17 13 17 15 19]\n",
            " [ 1  2  5  3 10 12  7 13  9 12 13 13 17 14 11 13 17 14 19 16]\n",
            " [ 1  3  7  6  4 12 12 13 15 13 14 15 14 18 17 12 13 18 17 19]\n",
            " [ 8  2  7 11 10  9 16 15 15 16 16 16 15 16 19 18 14 16 18 18]\n",
            " [ 6 12  7  8 13 15 10 17 18 16 16 17 18 15 17 19 18 16 17 19]\n",
            " [ 6 13 12 14 14 13 19 13 18 19 16 19 18 19 19 18 19 19 17 19]] \n",
            "\n",
            "\n"
          ]
        },
        {
          "output_type": "stream",
          "name": "stderr",
          "text": [
            "/usr/local/lib/python3.7/dist-packages/ipykernel_launcher.py:2: VisibleDeprecationWarning: Creating an ndarray from ragged nested sequences (which is a list-or-tuple of lists-or-tuples-or ndarrays with different lengths or shapes) is deprecated. If you meant to do this, you must specify 'dtype=object' when creating the ndarray\n",
            "  \n"
          ]
        }
      ]
    },
    {
      "cell_type": "code",
      "source": [
        ""
      ],
      "metadata": {
        "id": "kntP0cHufG52"
      },
      "execution_count": null,
      "outputs": []
    }
  ]
}