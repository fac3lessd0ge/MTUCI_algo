{
 "cells": [
  {
   "cell_type": "markdown",
   "id": "3dc896f3",
   "metadata": {},
   "source": [
    "# Task 2\n",
    "## Выполнил студент группы БВТ2002 Гармаш Арсений"
   ]
  },
  {
   "cell_type": "markdown",
   "id": "arctic-stocks",
   "metadata": {},
   "source": [
    "### Задание №1\n",
    "Массив A состоит из целых положительных чисел длин отрезков. Составьте из трех отрезков такой треугольник, чтобы его периметр был максимально возможным. Если невозможно составить треугольник с положительной площадью функция возвращает 0."
   ]
  },
  {
   "cell_type": "code",
   "execution_count": 1,
   "id": "caring-truck",
   "metadata": {
    "scrolled": false
   },
   "outputs": [
    {
     "name": "stdout",
     "output_type": "stream",
     "text": [
      " 1 2 7 5 8 13 4\n",
      "[13, 8, 7]\n"
     ]
    }
   ],
   "source": [
    "def get_biggest_triangle(lenlist: list) -> int:\n",
    "    \"\"\"\n",
    "    Returns the biggest possible perimeter of triangle made with sides from lenlist\n",
    "    \"\"\"\n",
    "\n",
    "\n",
    "    def possible_triangle(a: int, b: int, c: int) -> bool:\n",
    "        return (a + b >= c) and (a + c >= b) and (b + c >= a)\n",
    "\n",
    "    a, b, c = lenlist[-1], lenlist[-2], lenlist[-3]\n",
    "    \n",
    "    while not possible_triangle(a, b, c) or not len(lenlist) <= 3:\n",
    "        switch_val = max(a, b, c)\n",
    "        lenlist.remove(switch_val)\n",
    "        a, b, c = lenlist[-1], lenlist[-2], lenlist[-3]\n",
    "\n",
    "    print(a, b, c)\n",
    "\n",
    "\n",
    "    if possible_triangle(a, b, c): return a + b + c \n",
    "    else: return 0"
   ]
  },
  {
   "cell_type": "markdown",
   "id": "maritime-conversation",
   "metadata": {},
   "source": [
    "### Задание №2\n",
    "Дан массив неотрицательных целых чисел nums. Расположите их в таком порядке, чтобы вместе они образовали максимально возможное число. Замечание: Результат может быть очень большим числом, поэтому представьте его как string, а не integer."
   ]
  },
  {
   "cell_type": "code",
   "execution_count": 3,
   "id": "alert-charm",
   "metadata": {
    "scrolled": false
   },
   "outputs": [
    {
     "name": "stdout",
     "output_type": "stream",
     "text": [
      "6743323110\n"
     ]
    }
   ],
   "source": [
    "class Srav(str):\n",
    "    def __lt__(self, other):\n",
    "        return int(other+self) > int(self+other)\n",
    "    \n",
    "def line(nums):\n",
    "    nums = [str(item) for item in nums]\n",
    "    nums.sort(reverse=True,key=Srav)\n",
    "    print(''.join(nums))\n",
    "line([674,23,10,1,3,3])"
   ]
  },
  {
   "cell_type": "markdown",
   "id": "catholic-roots",
   "metadata": {},
   "source": [
    "### Задание №3\n",
    "Дана матрица mat размером m * n, значения целочисленные. Напишите функцию, сортирующую каждую диагональ матрицы по возрастанию и возвращающую получившуюся матрицу."
   ]
  },
  {
   "cell_type": "code",
   "execution_count": null,
   "id": "cleared-anniversary",
   "metadata": {
    "scrolled": false
   },
   "outputs": [],
   "source": [
    "def sort_diagonals(mat, size : tuple):\n",
    "    \"\"\"\n",
    "    size = (width, height)\n",
    "    \"\"\"\n",
    "\n",
    "    result = []\n",
    "\n",
    "    for i in range(size[0]-1, -1, -1):\n",
    "        temp = []\n",
    "        y = i\n",
    "        x = 0\n",
    "        while y <= size[0]-1 and x <= size[1]-1:\n",
    "            temp.append(mat[y][x])\n",
    "            y+=1\n",
    "            x+=1\n",
    "        result.append(temp)\n",
    "\n",
    "    for i in range(1, size[1]):\n",
    "        temp = []\n",
    "        y = 0\n",
    "        x = i\n",
    "        while y <= size[0]-1 and x <= size[1]-1:\n",
    "\n",
    "            result.append(temp)\n",
    "            temp.append(mat[y][x])\n",
    "            y+=1\n",
    "            x+=1\n",
    "    for diag in result:\n",
    "        diag.sort()\n",
    "    return result\n",
    "\n",
    "def sort_matrix(mat, size: tuple):\n",
    "    diagonals = np.array(sort_diagonals(mat, size), dtype = object)\n",
    "\n",
    "    current_x = 0\n",
    "    current_y = 0\n",
    "\n",
    "\n",
    "    for i in range(size[0]-1, -1, -1):\n",
    "        y = i\n",
    "        x = 0\n",
    "        while y <= size[0]-1 and x <= size[1]-1:\n",
    "            mat[y][x] = diagonals[current_y][current_x]\n",
    "            y+=1\n",
    "            x+=1\n",
    "            current_x = (current_x + 1) % (len(diagonals[current_y]))\n",
    "            if current_x == 0: current_y = (current_y + 1) % (len(diagonals) + 1)\n",
    "\n",
    "\n",
    "\n",
    "    for i in range(1, size[1]):\n",
    "        y = 0\n",
    "        x = i\n",
    "        while y <= size[0]-1 and x <= size[1]-1:\n",
    "            mat[y][x] = diagonals[current_y][current_x]\n",
    "            y+=1\n",
    "            x+=1\n",
    "            current_x = (current_x + 1) % (len(diagonals[current_y]))\n",
    "            if current_x == 0: current_y += 1\n",
    "\n",
    "    return mat\n",
    "        \n"
   ]
  }
 ],
 "metadata": {
  "interpreter": {
   "hash": "54eebe4bd519406a576e6049db654f74be4b37bdcd405e76f77af62a9c819326"
  },
  "kernelspec": {
   "display_name": "Python 3.10.2 64-bit",
   "language": "python",
   "name": "python3"
  },
  "language_info": {
   "codemirror_mode": {
    "name": "ipython",
    "version": 3
   },
   "file_extension": ".py",
   "mimetype": "text/x-python",
   "name": "python",
   "nbconvert_exporter": "python",
   "pygments_lexer": "ipython3",
   "version": "3.10.2"
  }
 },
 "nbformat": 4,
 "nbformat_minor": 5
}
