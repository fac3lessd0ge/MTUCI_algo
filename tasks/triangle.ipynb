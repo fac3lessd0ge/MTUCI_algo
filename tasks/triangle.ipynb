{
  "cells": [
    {
      "cell_type": "code",
      "execution_count": null,
      "metadata": {
        "id": "pNYQ4Pbq4C-t"
      },
      "outputs": [],
      "source": [
        "def possible_triangle(a: int, b: int, c: int) -> bool:\n",
        "    return (a + b >= c) and (a + c >= b) and (b + c >= a)"
      ]
    },
    {
      "cell_type": "code",
      "execution_count": null,
      "metadata": {
        "colab": {
          "base_uri": "https://localhost:8080/"
        },
        "id": "vMkoEoml0NCa",
        "outputId": "71a1fcf2-1fc9-44c3-ba97-5d812cd43575"
      },
      "outputs": [
        {
          "name": "stdout",
          "output_type": "stream",
          "text": [
            "True\n"
          ]
        }
      ],
      "source": [
        "print(possible_triangle(3, 2, 1))"
      ]
    },
    {
      "cell_type": "code",
      "execution_count": null,
      "metadata": {
        "id": "7mH7C4ZNwBYm"
      },
      "outputs": [],
      "source": [
        "def get_biggest_triangle(lenlist: list) -> int:\n",
        "    \"\"\"\n",
        "    Returns the biggest possible perimeter of triangle made with sides from lenlist\n",
        "    \"\"\"\n",
        "\n",
        "\n",
        "    def possible_triangle(a: int, b: int, c: int) -> bool:\n",
        "        return (a + b >= c) and (a + c >= b) and (b + c >= a)\n",
        "\n",
        "    a, b, c = lenlist[-1], lenlist[-2], lenlist[-3]\n",
        "    \n",
        "    while not possible_triangle(a, b, c) or not len(lenlist) <= 3:\n",
        "        switch_val = max(a, b, c)\n",
        "        lenlist.remove(switch_val)\n",
        "        a, b, c = lenlist[-1], lenlist[-2], lenlist[-3]\n",
        "\n",
        "    print(a, b, c)\n",
        "\n",
        "\n",
        "    if possible_triangle(a, b, c): return a + b + c \n",
        "    else: return 0"
      ]
    },
    {
      "cell_type": "code",
      "execution_count": null,
      "metadata": {
        "colab": {
          "base_uri": "https://localhost:8080/"
        },
        "id": "lUh4AY3zJmZ-",
        "outputId": "b327ef84-6990-4a72-c6d8-b750cb8993a1"
      },
      "outputs": [
        {
          "name": "stdout",
          "output_type": "stream",
          "text": [
            "1 2 3 560 568\n",
            "3 2 1\n",
            "6\n"
          ]
        }
      ],
      "source": [
        "inp = list(map(int, input().split(' ')))\n",
        "inp.sort()\n",
        "\n",
        "print(get_biggest_triangle(inp))"
      ]
    },
    {
      "cell_type": "code",
      "execution_count": null,
      "metadata": {
        "id": "acyIecA3SeH_"
      },
      "outputs": [],
      "source": []
    }
  ],
  "metadata": {
    "colab": {
      "authorship_tag": "ABX9TyMg35jBrKznrJ2woqzioHi8",
      "collapsed_sections": [],
      "name": "algosy_task_triangle.ipynb",
      "provenance": []
    },
    "kernelspec": {
      "display_name": "Python 3",
      "name": "python3"
    },
    "language_info": {
      "name": "python"
    }
  },
  "nbformat": 4,
  "nbformat_minor": 0
}
