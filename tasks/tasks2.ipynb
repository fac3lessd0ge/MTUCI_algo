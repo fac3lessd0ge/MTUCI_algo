{
 "cells": [
  {
   "cell_type": "markdown",
   "id": "3dc896f3",
   "metadata": {},
   "source": [
    "# Task 2\n",
    "## Выполнил студент группы БВТ2002 Гармаш Арсений"
   ]
  },
  {
   "cell_type": "markdown",
   "id": "arctic-stocks",
   "metadata": {},
   "source": [
    "### Задание №1\n",
    "Массив A состоит из целых положительных чисел длин отрезков. Составьте из трех отрезков такой треугольник, чтобы его периметр был максимально возможным. Если невозможно составить треугольник с положительной площадью функция возвращает 0."
   ]
  },
  {
   "cell_type": "code",
   "execution_count": 1,
   "id": "caring-truck",
   "metadata": {
    "scrolled": false
   },
   "outputs": [
    {
     "name": "stdout",
     "output_type": "stream",
     "text": [
      " 1 2 7 5 8 13 4\n",
      "[13, 8, 7]\n"
     ]
    }
   ],
   "source": [
    "def func():\n",
    "    data = input().strip().replace(\"  \", \" \").split(\" \")\n",
    "    arr = [int(el) for el in data]\n",
    "    p = 0\n",
    "    if len(arr) < 3:\n",
    "        return 0\n",
    "    arr.sort()\n",
    "    j = len(arr) - 1\n",
    "    while j > 1:\n",
    "        a = arr[j]\n",
    "        b = arr[j - 1]\n",
    "        c = arr[j - 2]\n",
    "        if (b + c) > a:\n",
    "            p = a + b + c\n",
    "            return [a, b, c]\n",
    "        j -= 1\n",
    "    return 0\n",
    "print(func())"
   ]
  },
  {
   "cell_type": "markdown",
   "id": "maritime-conversation",
   "metadata": {},
   "source": [
    "### Задание №2\n",
    "Дан массив неотрицательных целых чисел nums. Расположите их в таком порядке, чтобы вместе они образовали максимально возможное число. Замечание: Результат может быть очень большим числом, поэтому представьте его как string, а не integer."
   ]
  },
  {
   "cell_type": "code",
   "execution_count": 4,
   "id": "alert-charm",
   "metadata": {
    "scrolled": false
   },
   "outputs": [
    {
     "name": "stdout",
     "output_type": "stream",
     "text": [
      "Отсортированный массив\n",
      "['328', '27', '2', '2003', '13', '0']\n",
      "Результат\n",
      "3282722003130\n"
     ]
    }
   ],
   "source": [
    "class Srav(str):\n",
    "    def __lt__(self, other):\n",
    "        return int(other+self) > int(self+other)\n",
    "    \n",
    "def line(nums):\n",
    "    nums = [str(item) for item in nums]\n",
    "    nums.sort(reverse=True,key=Srav)\n",
    "    print('Отсортированный массив') \n",
    "    print(nums)\n",
    "    print('Результат')\n",
    "    print(''.join(nums))\n",
    "line([328,13,27,0,2,2003])"
   ]
  },
  {
   "cell_type": "markdown",
   "id": "catholic-roots",
   "metadata": {},
   "source": [
    "### Задание №3\n",
    "Дана матрица mat размером m * n, значения целочисленные. Напишите функцию, сортирующую каждую диагональ матрицы по возрастанию и возвращающую получившуюся матрицу."
   ]
  },
  {
   "cell_type": "code",
   "execution_count": null,
   "id": "cleared-anniversary",
   "metadata": {
    "scrolled": false
   },
   "outputs": [],
   "source": [
    "# GOTO: matrix_diagonal_sort"
   ]
  }
 ],
 "metadata": {
  "kernelspec": {
   "display_name": "Python 3 (ipykernel)",
   "language": "python",
   "name": "python3"
  },
  "language_info": {
   "codemirror_mode": {
    "name": "ipython",
    "version": 3
   },
   "file_extension": ".py",
   "mimetype": "text/x-python",
   "name": "python",
   "nbconvert_exporter": "python",
   "pygments_lexer": "ipython3",
   "version": "3.10.2"
  }
 },
 "nbformat": 4,
 "nbformat_minor": 5
}
