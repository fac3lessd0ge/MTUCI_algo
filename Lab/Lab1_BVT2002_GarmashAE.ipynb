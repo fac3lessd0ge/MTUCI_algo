{
  "nbformat": 4,
  "nbformat_minor": 0,
  "metadata": {
    "colab": {
      "name": "Lab1_BVT2002_GarmashAE.ipynb",
      "provenance": [],
      "collapsed_sections": [],
      "authorship_tag": "ABX9TyPDt4LN65JIQKWSg+mNiof0",
      "include_colab_link": true
    },
    "kernelspec": {
      "name": "python3",
      "display_name": "Python 3"
    },
    "language_info": {
      "name": "python"
    }
  },
  "cells": [
    {
      "cell_type": "markdown",
      "metadata": {
        "id": "view-in-github",
        "colab_type": "text"
      },
      "source": [
        "<a href=\"https://colab.research.google.com/github/fac3lessd0ge/MTUCI_algo/blob/main/Lab/Lab1_BVT2002_GarmashAE.ipynb\" target=\"_parent\"><img src=\"https://colab.research.google.com/assets/colab-badge.svg\" alt=\"Open In Colab\"/></a>"
      ]
    },
    {
      "cell_type": "markdown",
      "source": [
        "# Лабораторная работа №1\n",
        "## Выполнил студент группы БВТ2002 Гармаш Арсений Евгеньевич\n"
      ],
      "metadata": {
        "id": "HOMJEoA82WaX"
      }
    },
    {
      "cell_type": "markdown",
      "source": [
        "## Задание 1"
      ],
      "metadata": {
        "id": "adnq8tVF2ozG"
      }
    },
    {
      "cell_type": "code",
      "execution_count": 118,
      "metadata": {
        "colab": {
          "base_uri": "https://localhost:8080/"
        },
        "id": "-P59jHcp1oF1",
        "outputId": "ad013118-32f9-403c-cd00-ce1f6269eca3"
      },
      "outputs": [
        {
          "output_type": "stream",
          "name": "stdout",
          "text": [
            "Hello, World!\n"
          ]
        }
      ],
      "source": [
        "print('Hello, World!')"
      ]
    },
    {
      "cell_type": "markdown",
      "source": [
        "## Задание 2\n",
        "Написать генератор случайных матриц(многомерных), который принимает <br>\n",
        "опциональные параметры **m, n, min_limit, max_limit**, где **m** и **n** указывают размер <br>\n",
        "матрицы, а **min_lim** и **max_lim** - минимальное и максимальное значение для <br>\n",
        "генерируемого числа . По умолчанию при отсутствии параметров принимать следующие <br>\n",
        "значения: <br>\n",
        "m = 50 <br>\n",
        "n = 50 <br>\n",
        "min_limit = -250 <br>\n",
        "max_limit = 1000 + (номер своего варианта)\n",
        "\n",
        "Ни малейшего понятия не имею, какой у меня вариант, но по списку я 6-й, так что.."
      ],
      "metadata": {
        "id": "JDrVvzI12v65"
      }
    },
    {
      "cell_type": "markdown",
      "source": [
        "### Решение без библиотек"
      ],
      "metadata": {
        "id": "Uznv8fitABE2"
      }
    },
    {
      "cell_type": "code",
      "source": [
        "from random import randint"
      ],
      "metadata": {
        "id": "RXllvc7d4v4Q"
      },
      "execution_count": 119,
      "outputs": []
    },
    {
      "cell_type": "code",
      "source": [
        "def trivial_matrix(min_limit = -250, max_limit = 1006, size = (50, 50)):\n",
        "    \"\"\"\n",
        "    Returns matrix where the values are random integers between \n",
        "    min_limit and max_limit\n",
        "    \"\"\"\n",
        "    result = []\n",
        "    for i in range(size[0]):\n",
        "        row = []\n",
        "        for j in range(size[1]):\n",
        "            row.append(randint(min_limit, max_limit))\n",
        "        result.append(row)\n",
        "    return result"
      ],
      "metadata": {
        "id": "87nkJRxd2vBe"
      },
      "execution_count": 120,
      "outputs": []
    },
    {
      "cell_type": "code",
      "source": [
        "def print_matrix(matrix):\n",
        "    print('\\n'.join([''.join(['{:5}'.format(item) for item in row]) for row in matrix]))"
      ],
      "metadata": {
        "id": "AmFpXNx-6aoa"
      },
      "execution_count": 121,
      "outputs": []
    },
    {
      "cell_type": "code",
      "source": [
        "sample = trivial_matrix()\n",
        "\n",
        "print('---------------------')\n",
        "print(f'Matrix size: ({len(sample)}, {len(sample[0])})\\n')\n",
        "print(f'Maximum: {max(map(max, sample))} | Minimum: {min(map(min, sample))}')\n",
        "print('---------------------\\n')\n",
        "\n",
        "print_matrix(sample)"
      ],
      "metadata": {
        "id": "hT8nHXZP54bd"
      },
      "execution_count": null,
      "outputs": []
    },
    {
      "cell_type": "markdown",
      "source": [
        "### Решение с помощью NumPy"
      ],
      "metadata": {
        "id": "vMz7WFFj9FpV"
      }
    },
    {
      "cell_type": "code",
      "source": [
        "import numpy"
      ],
      "metadata": {
        "id": "PhAQShW659qY"
      },
      "execution_count": 123,
      "outputs": []
    },
    {
      "cell_type": "code",
      "source": [
        "def numpy_array(min_limit = -250, max_limit = 1006, size = (50, 50)):\n",
        "    return numpy.random.randint(min_limit, max_limit, size)"
      ],
      "metadata": {
        "id": "hK9XTrcr-3h-"
      },
      "execution_count": 124,
      "outputs": []
    },
    {
      "cell_type": "code",
      "source": [
        "sample2 = numpy_array()\n",
        "\n",
        "print('---------------------')\n",
        "print(f'Matrix size: ({len(sample2)}, {len(sample2[0])})\\n')\n",
        "print(f'Maximum: {max(map(max, sample2))} | Minimum: {min(map(min, sample2))}')\n",
        "print('---------------------\\n')\n",
        "\n",
        "\n",
        "print_matrix(sample2)"
      ],
      "metadata": {
        "id": "U8qXheup_Y7y"
      },
      "execution_count": null,
      "outputs": []
    },
    {
      "cell_type": "markdown",
      "source": [
        "## Задание 3\n",
        "Реализовать методы сортировки строк числовой матрицы в соответствии с\n",
        "заданием. Оценить время работы каждого алгоритма сортировки и сравнить его со\n",
        "временем стандартной функции сортировки. Испытания проводить на сгенерированных\n",
        "матрицах.\n",
        "\n",
        "Методы:\n",
        "*   Выбором\n",
        "*   Вставкой\n",
        "*   Обменом \n",
        "*   Шелла\n",
        "*   Турнирная\n",
        "*   Быстрая сортировка\n",
        "*   Пирамидальная\n",
        "\n"
      ],
      "metadata": {
        "id": "KSmaXpC8AR8A"
      }
    },
    {
      "cell_type": "markdown",
      "source": [
        "### Сортировка выбором"
      ],
      "metadata": {
        "id": "sr3xmG9RBezq"
      }
    },
    {
      "cell_type": "code",
      "source": [
        "def selection_sort(li):\n",
        "    for i in range(len(li)):\n",
        "        min_ind = i\n",
        "\n",
        "        for j in range(i, len(li)):\n",
        "            if li[min_ind] > li[j]:\n",
        "                li[min_ind], li[j] = li[j], li[min_ind]\n",
        "\n",
        "    return li"
      ],
      "metadata": {
        "id": "khcjWEVYBdq6"
      },
      "execution_count": 126,
      "outputs": []
    },
    {
      "cell_type": "code",
      "source": [
        "def selection_sort_matrix(matrix):\n",
        "    for row in matrix:\n",
        "        selection_sort(row)\n",
        "\n",
        "    return matrix"
      ],
      "metadata": {
        "id": "Ul0Rtb6sFVJb"
      },
      "execution_count": 127,
      "outputs": []
    },
    {
      "cell_type": "markdown",
      "source": [
        "### Сортировка вставкой"
      ],
      "metadata": {
        "id": "0WwolNr9JHLY"
      }
    },
    {
      "cell_type": "code",
      "source": [
        "def insertion_sort(li, step: int = 1):\n",
        "    length = len(li)\n",
        "    if length <= 1: return li\n",
        "\n",
        "    start_index = step\n",
        "    for i in range(start_index, length, step):\n",
        "        j = i\n",
        "\n",
        "        while j > 0 and li[j-step] > li[j]:\n",
        "            li[j-step], li[j] = li[j], li[j-step]\n",
        "            j -= step\n",
        "    return li"
      ],
      "metadata": {
        "id": "q4LW3IsVJLc3"
      },
      "execution_count": 128,
      "outputs": []
    },
    {
      "cell_type": "code",
      "source": [
        "def insertion_sort_matrix(matrix, step: int = 1):\n",
        "    for row in matrix:\n",
        "        insertion_sort(row, step)\n",
        "    return matrix"
      ],
      "metadata": {
        "id": "9GlCDG7mkYiO"
      },
      "execution_count": 129,
      "outputs": []
    },
    {
      "cell_type": "markdown",
      "source": [
        "### Сортировка обменом\n",
        "Сортировка обменом - термин довольно широкий. Однако тут я реализую пожалуй самый популярный вид сортировки обменом - пузырьковую"
      ],
      "metadata": {
        "id": "74sUIZRIxA-A"
      }
    },
    {
      "cell_type": "code",
      "source": [
        "def bubble_sort(li):\n",
        "    n = len(li)\n",
        "    if n <= 1: return li\n",
        "\n",
        "    while True:\n",
        "        swapped = False\n",
        "\n",
        "        for i in range(1, n):\n",
        "            if li[i-1] > li[i]:\n",
        "                li[i-1], li[i] = li[i], li[i-1]\n",
        "                swapped = True\n",
        "            \n",
        "        n -= 1\n",
        "        if not swapped: break\n",
        "\n",
        "    return li"
      ],
      "metadata": {
        "id": "nLPgDgkbxVOG"
      },
      "execution_count": 130,
      "outputs": []
    },
    {
      "cell_type": "code",
      "source": [
        "def bubble_sort_matrix(matrix):\n",
        "    for row in matrix:\n",
        "        bubble_sort(row)\n",
        "    return matrix"
      ],
      "metadata": {
        "id": "D7jl9dWo01hq"
      },
      "execution_count": 131,
      "outputs": []
    },
    {
      "cell_type": "markdown",
      "source": [
        "### Сортировка Шелла\n"
      ],
      "metadata": {
        "id": "4cHKwU0D1r_W"
      }
    },
    {
      "cell_type": "code",
      "source": [
        "def shell_sort(li):\n",
        "    n = len(li)\n",
        "    step = n // 2\n",
        "\n",
        "    while step > 0:\n",
        "        for i in range(step, n):\n",
        "            j = i\n",
        "            delta = j - step\n",
        "            while delta >= 0 and li[delta] > li[j]:\n",
        "                li[delta], li[j] = li[j], li[delta]\n",
        "                j = delta\n",
        "                delta = j - step\n",
        "        step //= 2\n",
        "    return li"
      ],
      "metadata": {
        "id": "NT1hm94M2pYW"
      },
      "execution_count": 132,
      "outputs": []
    },
    {
      "cell_type": "code",
      "source": [
        "def shell_sort_matrix(matrix):\n",
        "    for row in matrix:\n",
        "        shell_sort(row)\n",
        "    return matrix"
      ],
      "metadata": {
        "id": "jI5IWTuB5wwN"
      },
      "execution_count": 133,
      "outputs": []
    },
    {
      "cell_type": "markdown",
      "source": [
        "## Быстрая сортировка"
      ],
      "metadata": {
        "id": "RwNEmYBzZ90I"
      }
    },
    {
      "cell_type": "code",
      "source": [
        "def partition(li: list, start, end):\n",
        "    x = li[start]\n",
        "\n",
        "    j = start\n",
        "\n",
        "    for i in range(start + 1, end + 1):\n",
        "        if li[i] <= x:\n",
        "            j += 1\n",
        "            li[j], li[i] = li[i], li[j]\n",
        "        \n",
        "    li[start], li[j] = li[j], li[start]\n",
        "    return j\n",
        "\n",
        "def quick_sort(li: list, start, end):\n",
        "    if start >= end: return\n",
        "\n",
        "    m = partition(li, start, end)\n",
        "    quick_sort(li, start, m - 1)\n",
        "    quick_sort(li, m + 1, end)\n",
        "\n",
        "def do_a_quick_sort(li: list) -> None:\n",
        "    end = len(li) - 1\n",
        "    quick_sort(li, 0, end) \n"
      ],
      "metadata": {
        "id": "IHBJVqXhaAec"
      },
      "execution_count": 160,
      "outputs": []
    },
    {
      "cell_type": "code",
      "source": [
        "def do_a_quick_sort_for_matrix(matrix):\n",
        "    for i in range(len(matrix)):\n",
        "        do_a_quick_sort(matrix[i])"
      ],
      "metadata": {
        "id": "PQbXyNxmsR_l"
      },
      "execution_count": 164,
      "outputs": []
    },
    {
      "cell_type": "code",
      "source": [
        "a = [randint(-15, 15) for i in range(50)]\n",
        "print(a)\n",
        "do_a_quick_sort(a)\n",
        "print(a)\n"
      ],
      "metadata": {
        "id": "ulGGUaPwrOXY"
      },
      "execution_count": null,
      "outputs": []
    },
    {
      "cell_type": "markdown",
      "source": [
        "## Турнирная сортировка"
      ],
      "metadata": {
        "id": "kMlEkmdyflc7"
      }
    },
    {
      "cell_type": "code",
      "source": [
        "class PriorityHeap():\n",
        "\n",
        "    def min_heapify(self, li: list, n: int, _current: int) -> list:\n",
        "        current = _current\n",
        "        right = 2 * _current + 2\n",
        "        left = 2 * _current + 1\n",
        "\n",
        "        if right < n and li[right] < li[current]:\n",
        "            current = right\n",
        "        if left < n and li[left] < li[current]:\n",
        "            current = left\n",
        "        if current != _current:\n",
        "            li[_current],li[current] = li[current],li[_current]\n",
        "            self.min_heapify(li, n, current)\n",
        "        return li\n",
        "\n",
        "    def update_queue(self, queue: list):\n",
        "        for i in range(len(queue) // 2 - 1, -1, -1):\n",
        "            self.min_heapify(queue, len(queue), i)  \n",
        "\n",
        "    def __init__(self, array = []):\n",
        "        if len(array) == 0 or len(array) == 1:\n",
        "            self.queue = array\n",
        "            return\n",
        "\n",
        "        self.start = array.copy()\n",
        "        self.queue = self.start.copy()\n",
        "        \n",
        "        self.update_queue(self.queue)\n",
        "\n",
        "    def __str__(self):\n",
        "        return f'[{\", \".join(map(lambda x: str(x), self.queue))}]'\n",
        "\n",
        "    def pop(self, index: int):\n",
        "        temp = self.queue.pop(index)\n",
        "        self.update_queue(self.queue)\n",
        "        return(temp)\n",
        "    \n",
        "    @property\n",
        "    def length(self):\n",
        "        return len(self.queue)\n",
        "\n",
        "    def add(self, value: int):\n",
        "        self.queue.append(value)\n",
        "        self.update_queue(self.queue)"
      ],
      "metadata": {
        "id": "lLY5N87Irp-X"
      },
      "execution_count": 135,
      "outputs": []
    },
    {
      "cell_type": "code",
      "source": [
        "def tournament_sort(li: list) -> list:\n",
        "\n",
        "    length = len(li)\n",
        "\n",
        "    winners = []\n",
        "    losers = []\n",
        "\n",
        "    queue = PriorityHeap()\n",
        "    while queue.length < 15 and len(li) >= 0:\n",
        "        queue.add(li.pop(0))\n",
        "\n",
        "    while len(li) != 0:\n",
        "\n",
        "        if len(winners) == 0:\n",
        "            winners.append(queue.pop(0))\n",
        "\n",
        "        if li[0] > winners[-1]:\n",
        "            queue.add(li.pop(0))\n",
        "        else:\n",
        "            losers.append(li.pop(0))\n",
        "\n",
        "        #if queue.length != 0: winners.append(queue.pop(0))\n",
        "        \n",
        "    while queue.length != 0:\n",
        "        winners.append(queue.pop(0))\n",
        "\n",
        "    if len(losers) == 0: return winners\n",
        "    else:\n",
        "        li = losers + winners\n",
        "        return tournament_sort(li)"
      ],
      "metadata": {
        "id": "trQGdifZtj_V"
      },
      "execution_count": 136,
      "outputs": []
    },
    {
      "cell_type": "code",
      "source": [
        "import heapq"
      ],
      "metadata": {
        "id": "5N3pd7XbDpkA"
      },
      "execution_count": 137,
      "outputs": []
    },
    {
      "cell_type": "code",
      "source": [
        "def tournament_sort_heapq(li: list) -> list:\n",
        "\n",
        "    length = len(li)\n",
        "\n",
        "    winners = []\n",
        "    losers = []\n",
        "\n",
        "    queue = []\n",
        "    while len(queue) < len(li) // 2:\n",
        "        heapq.heappush(queue, li.pop(0))\n",
        "\n",
        "    while len(li) != 0:\n",
        "\n",
        "        if len(winners) == 0:\n",
        "            winners.append(heapq.heappop(queue))\n",
        "\n",
        "        if li[0] > winners[-1]:\n",
        "            heapq.heappush(queue, li.pop(0))\n",
        "        else:\n",
        "            losers.append(li.pop(0))\n",
        "\n",
        "        #if len(queue) != 0: winners.append(heapq.heappop(queue))\n",
        "        \n",
        "    while len(queue) != 0:\n",
        "        winners.append(heapq.heappop(queue))\n",
        "\n",
        "    if len(losers) == 0: return winners\n",
        "    else:\n",
        "        li = losers + winners\n",
        "        return tournament_sort_heapq(li)"
      ],
      "metadata": {
        "id": "y_Jp1T1WD4rD"
      },
      "execution_count": 138,
      "outputs": []
    },
    {
      "cell_type": "code",
      "source": [
        "import random"
      ],
      "metadata": {
        "id": "fo56DzsSzLcv"
      },
      "execution_count": 139,
      "outputs": []
    },
    {
      "cell_type": "code",
      "source": [
        "import time"
      ],
      "metadata": {
        "id": "X5vRrQGX4Ap4"
      },
      "execution_count": 140,
      "outputs": []
    },
    {
      "cell_type": "code",
      "source": [
        "test = [random.randint(0, 100_000) for n in range(1000)]\n",
        "\n",
        "a1 = time.time()\n",
        "print(tournament_sort(test))\n",
        "b1 = time.time()\n",
        "print(b1-a1)\n",
        "\n",
        "# Разница по времени - любопытная\n",
        "\n",
        "\n",
        "test2 = [random.randint(0, 100_000) for n in range(200_000)]\n",
        "a2 = time.time()\n",
        "print(tournament_sort_heapq(test2))\n",
        "b2 = time.time()\n",
        "print(b2-a2)\n"
      ],
      "metadata": {
        "id": "1liWFuTdzGc3"
      },
      "execution_count": null,
      "outputs": []
    },
    {
      "cell_type": "code",
      "source": [
        "def tournament_sort_matrix(matrix):\n",
        "    for i in range(len(matrix)):\n",
        "        matrix[i] =  tournament_sort(matrix[i])\n",
        "    return matrix\n",
        "\n",
        "def tournament_sort_heapq_matrix(matrix):\n",
        "    for i in range(len(matrix)):\n",
        "        matrix[i] = tournament_sort_heapq(matrix[i])\n",
        "    return matrix"
      ],
      "metadata": {
        "id": "lbzIPaNMhLeu"
      },
      "execution_count": 142,
      "outputs": []
    },
    {
      "cell_type": "markdown",
      "source": [
        "##Пирамидальная сортировка"
      ],
      "metadata": {
        "id": "-FcAF2OxuFcs"
      }
    },
    {
      "cell_type": "code",
      "source": [
        "def heapify(li: list, n: int, _largest: int) -> list:\n",
        "    largest = _largest\n",
        "    right = 2 * _largest + 2\n",
        "    left = 2 * _largest + 1\n",
        "\n",
        "    if right < n and li[right] > li[largest]:\n",
        "        largest = right\n",
        "\n",
        "    if left < n and li[left] > li[largest]:\n",
        "        largest = left\n",
        "    \n",
        "    if largest != _largest:\n",
        "        li[_largest],li[largest] = li[largest],li[_largest]\n",
        "        heapify(li, n, largest)\n",
        "\n",
        "    return li"
      ],
      "metadata": {
        "id": "myt1EDDFuJZi"
      },
      "execution_count": 143,
      "outputs": []
    },
    {
      "cell_type": "code",
      "source": [
        "def heap_sort(li) -> list:\n",
        "    n = len(li)\n",
        "\n",
        "    for i in range(n // 2 - 1, -1, -1):\n",
        "        heapify(li, n, i)\n",
        "    \n",
        "    for i in range(n-1, 0, -1):\n",
        "        li[i], li[0] = li[0], li[i]\n",
        "        heapify(li, i, 0)\n",
        "\n",
        "    return li\n"
      ],
      "metadata": {
        "id": "IUvYoN1K0lyZ"
      },
      "execution_count": 144,
      "outputs": []
    },
    {
      "cell_type": "code",
      "source": [
        "test = [random.randint(0, 10_000) for n in range(100000)]\n",
        "\n",
        "a = time.time()\n",
        "print(heap_sort(test))\n",
        "b = time.time()\n",
        "\n",
        "print(b-a)"
      ],
      "metadata": {
        "id": "CoI2lP5F8LKz"
      },
      "execution_count": null,
      "outputs": []
    },
    {
      "cell_type": "code",
      "source": [
        "def heap_sort_matrix(matrix):\n",
        "    for row in matrix:\n",
        "        heap_sort(row)\n",
        "    return matrix"
      ],
      "metadata": {
        "id": "ro4JYMHO2nlo"
      },
      "execution_count": 146,
      "outputs": []
    },
    {
      "cell_type": "code",
      "source": [
        "arr = [ 12, 11, 13, 5, 6, 7]\n",
        "heap_sort(arr)\n",
        "n = len(arr)\n",
        "print (\"Sorted array is\")\n",
        "arr"
      ],
      "metadata": {
        "colab": {
          "base_uri": "https://localhost:8080/"
        },
        "id": "S7Fg7NF52RT0",
        "outputId": "787a6e26-e6a7-4449-d70e-98d38aed1e48"
      },
      "execution_count": 147,
      "outputs": [
        {
          "output_type": "stream",
          "name": "stdout",
          "text": [
            "Sorted array is\n"
          ]
        },
        {
          "output_type": "execute_result",
          "data": {
            "text/plain": [
              "[5, 6, 7, 11, 12, 13]"
            ]
          },
          "metadata": {},
          "execution_count": 147
        }
      ]
    },
    {
      "cell_type": "markdown",
      "source": [
        "### Тесты сортировок"
      ],
      "metadata": {
        "id": "CLuR_QTzC9qU"
      }
    },
    {
      "cell_type": "code",
      "source": [
        "import time"
      ],
      "metadata": {
        "id": "za5pagZb7VJ2"
      },
      "execution_count": 148,
      "outputs": []
    },
    {
      "cell_type": "code",
      "source": [
        "class SortingError(Exception):\n",
        "    pass\n",
        "\n",
        "def sort_n_test(matrix, method : str = 'selection', print_result = True):\n",
        "\n",
        "    methods = {\n",
        "        'selection': selection_sort_matrix,\n",
        "        'insertion': insertion_sort_matrix,\n",
        "        'bubble': bubble_sort_matrix,\n",
        "        'shell': shell_sort_matrix,\n",
        "        'tournament': tournament_sort_matrix,\n",
        "        'tournament_heapq': tournament_sort_heapq_matrix,\n",
        "        'quick': do_a_quick_sort_for_matrix,\n",
        "        'heap': heap_sort_matrix\n",
        "    }\n",
        "    a = time.time()\n",
        "    sorted = methods[method](matrix)\n",
        "    if method == 'quick': sorted = matrix\n",
        "    b = time.time()\n",
        "\n",
        "\n",
        "    print(f'\\nEscalated time: {b - a}\\n\\n')\n",
        "    if print_result: print_matrix(sorted)\n",
        "\n",
        "    for row in sorted:\n",
        "        for i in range(1, len(row)):\n",
        "            if row[i] < row[i-1]:\n",
        "                raise SortingError(\"Something's wrong!\")\n",
        "\n",
        "    print('Sorting:', method)\n",
        "    print('---------------')\n",
        "    print('Test passed!')\n",
        "    print('---------------')\n",
        "\n",
        "    return b - a"
      ],
      "metadata": {
        "id": "eQ7-u5dOGVij"
      },
      "execution_count": 177,
      "outputs": []
    },
    {
      "cell_type": "code",
      "source": [
        "def test_complexity(method : str = 'selection') -> list:\n",
        "    results = []\n",
        "\n",
        "    methods = {\n",
        "        'selection': selection_sort_matrix,\n",
        "        'insertion': insertion_sort_matrix,\n",
        "        'bubble': bubble_sort_matrix,\n",
        "        'shell': shell_sort_matrix,\n",
        "        'heap': heap_sort_matrix\n",
        "    }\n",
        "    \n",
        "\n",
        "    dimensions = [25 * (2 * i - 1) for i in range(1, 4000, 50)]\n",
        "\n",
        "    for i in dimensions:\n",
        "        test_mat = trivial_matrix(size = (1, i))\n",
        "\n",
        "        a = time.time()\n",
        "        sorted = methods[method](test_mat)\n",
        "        b = time.time()\n",
        "\n",
        "        results.append(b - a)\n",
        "\n",
        "    return results\n"
      ],
      "metadata": {
        "id": "aNnXFycI3h-M"
      },
      "execution_count": 150,
      "outputs": []
    },
    {
      "cell_type": "code",
      "source": [
        "test_samples = trivial_matrix()\n",
        "\n",
        "print('\\n\\n-------------------')\n",
        "print('Generated matrix')\n",
        "print('-------------------\\n\\n')\n",
        "print_matrix(test_samples)\n",
        "\n",
        "sorts = ['selection', 'insertion', 'bubble', 'shell', 'tournament', 'tournament_heapq', 'quick', 'heap']\n",
        "\n",
        "res = [sort_n_test(test_samples.copy(), method = p, print_result = False) for p in sorts]\n",
        "print('\\n\\nSorting times (milliseconds)')\n",
        "for i, sort in enumerate(sorts):\n",
        "    print(sort, ' : ', str(res[i] * 1000))\n",
        "\n",
        "#print(res)"
      ],
      "metadata": {
        "colab": {
          "base_uri": "https://localhost:8080/"
        },
        "id": "SVEfwKzhDApM",
        "outputId": "f12012e6-a72e-4c3f-be94-839dc69b97a7"
      },
      "execution_count": 182,
      "outputs": [
        {
          "output_type": "stream",
          "name": "stdout",
          "text": [
            "\n",
            "\n",
            "-------------------\n",
            "Generated matrix\n",
            "-------------------\n",
            "\n",
            "\n",
            "  501  733  424  502 -167  994  -37  684  445  619 -100 -243   84  425  300  184  912  779 -176  686  777  896  119  391  646  821  497  104 -143  782  492  559  373 -164  -83  495  -45  231  186  676 -212  781  531  287  458  144  -66  911  333  932\n",
            " 1006  561  296  324  143  595  428  474  577  -99  645  100  592  845 -135  529  392   -8  490  553  462  298   32  839    2  864  577  -27  549  325   95  163  474   29  732   96  657  203  458 -113  333 -189  214  299  520  805  431  957  627  429\n",
            "  555 -232 -138   14  379  393   -9  -65  436  609  449  220  346  691   69  -38  -81  687  394  238  421  591  994  565  846  109  810  413    6  519  957  343  820  427  909  411  750  686  277  910  283 1004  730  198  286  515  529  983  504 -205\n",
            "  445  594  957  615   22 -174  -28  773  740  421 -190  475  864  502  173  754   40 -219  361  209  792 -117  481  576  249  957  810  552  995  642  578  290  205  846  756   32  -13  260  419   67  860 -224  955   38  461  362  444  997  821 -218\n",
            "   29  695  400  858  407  302  248  -89  199 1001  998  259  135  973  -83  409  635  932  889  602  968 -185  942 -204  207  621  569  661  286  899  437  886  452  478  482  410  929  394  319   26  714 -194  -15  893  972  847   25  803  173  887\n",
            "  990 -108   96  269  564 -247   40  684  853  534  625  362  668 -113  578  245   34  122  818 -111  703  567  774  866   70  881  874  272   20  275  163 -176  192  615   66  644  418  997  412  201  955  569  -93 -190  587  145 -187  160  256   89\n",
            " -119   64  460  332  271 -225  925  246  967   99  -38  568  101 -175  108   50  713  802  711  791  424  -56  -87  815  818  330  705  482  879  380  676  -82   99  647 -142  778  755 -101  981   77  -66  378   91   70  194  864  -24  232  178  303\n",
            "  484  997  120 -165  736  485 -222  982 -185  489  148  175  871  -78  271  140  136  362   67  992  944  117  890  171  832  -15  264  828  434  294   70  881 -211  122  526  444  381  392  505 -197  773   79   32  968  267  191  738  -88  912  575\n",
            "  913  166  992  -51  -22  683  994  714  227 -223 -206 -217  505  369  -31  430  495  796  223  528  845  552  828  581   94  -90  676 -168  -26  951  867  204  385  524  -14  623  490  456  688  948  978  921  172 -110  695  638 -143  134  980  638\n",
            "  915 -218  584  949  292  627  -41  147  820  793  259  191 -236  324 -213  937   58 -144  -80  971  949  639  334  756  701  573  717  507   65  955  661  700  630  116  748 1001  623  299  609  990  167   21  207  283   15  680  196  699  351  729\n",
            "  393  972  384  132  417  570  210  896 -174  928  880  258  697 -191  411  141  854  179  803  235  693   88  435  874  376  457 -128   28  -46  906  -87  837   95 -228  195 -197 -215  395  671  827  -60  511  945 -129  220  170 -177  293  113  354\n",
            "  578  411  573  581  928 -133  694  293 -145  808 -188  294  566 -225 -207  662  287  242   -5  690  963  -36  556   33 -118  599   95  909  941  508 -204  593  184 -184  954  710  654  150  639  103  936  429   40  623  521  677 -212  734  835  581\n",
            "  223  625  149  893  257  241 -228  277  488 -250  608  597  258   37  -51  -74 -186  687  353  361  732  -85  468  743  255  180  962 -204 -240  258  288  941  -17 -118  109  570 -207  -75   42  -38  343  478  389  721  536  446  -74  981  -76   37\n",
            "  633  995 -237  844  669 -142  342  682 1006  446  432  710  922  -16  302  265  319  542 -202  380 -185  373  119  872  423 -202 -118  491  713  289  844  699 -203  446  330  606 -222  -74  -69  322  393  903  187  782 -207  840  472  553 -215  305\n",
            "  773  693  320  841  497  184  727 1003  887 -231  990  506  469  710  -33  723  -57  459 -191  318  765  489 -131  264  -34  203  120  413  396  530  -28  900  836  -62  849  318 -167 -147  800  451 -128 -132  147  580  309    4  110  -35  471  410\n",
            "  927   -3  971  100  403  763 -180 -140  367  -40  108  477  461 -146   53  724  504  -84 -192  878  381  -12  738  697  534  598  811  442  918  348  917  492  206  491 -216  826  781  557  939  211  645  905  242  285  554  556  108  763  441    0\n",
            "  937 -245  533  -10  686  791  111  293  900  709   30  334  671 -201 -126  654   86  496  519  630  594  329  124  835  170  -45  -40  387  412  920  732  119  596  977  149  326 1006  753   27 -223 -160  -35  -20  805  121  914   97  989  305   79\n",
            "  689   18  907  581  178  887  750  332   54  172  410  192  541  636  931   16  -62  577  287  339  -34 -122 -229  615  607  466  -23  808   83 -191  -43  499  771  682  266  997  876 -196  562  916  172  -43  302  453  648  849  -50  479  732  610\n",
            " -139  241  146  261  227  242   94  143  795 -169 -132 -222  575  684 -204   93  250  923   13  272  451   69  524  117  309 -104    6  374  758  874   24  971  733   75  349  114   54  905   71 -119  435   30  349  705  217  250  381  698  565  552\n",
            "  794  752  893 -176  290  563  114  811  958  919  435 -183  473   51  480  104  587  766  386  -91  503  330  511  334  184   40 -227  460  -72 -237  945  840 -153  999  476  -75  857  460  830  630  469  194  959  708  261 -121  132  449  -79  244\n",
            "   39  377 -244  197  139  250  948  951  830 -202  720  533  454 -214   24  483 -120  139  222  -85 -208 -144  348   -4  766 -179   34  -79  103  323  622  481  676  208 -118   -3  -56  -75  811 -170  704  -18  662  515  855  825  975  716  117  601\n",
            "  265  338  735  430 -107  384 -241  239  905  253  543 1004  196  189  -19  803  128  -58  174  442  617   20  737  439  525  921  966  929  471  252    7  -17 -169  946  791  465  753   -1  827  379  697 -136  732  645    9   89  212  585   75  681\n",
            "  580  895  850  218  160  772  148  705  953  265  316  762  892 -223  739 -128  -24  788  541  571  -93   94  236  -37  856    7 -222  127  -79  541  668  783  709  -60  231   74  477  489 -240  930 -136  828  279  -10 -166  693   41  923  379 -110\n",
            " -182  -99 -105 -246  -79 -196  818  150  977  395   62  -78  267  585  786  654  365  454   -9  921  516  367  166  811  750   77  387  287  905  620  190  220  -33  255  611  979  422 1000   44  256  -87  617  190  416  437  355   89    2  174  885\n",
            "  301 -191  436   55 -153  117  786  670  176 -123  648  592   73  977  -88 -116  299 -103 1002  217  549  371  313   20  467  -98   84  618  417  228  390  124  145  548  811  641 -125   -8  243 -203  560  283  618  436 -170  378  490  -88  -22   -2\n",
            "  297   80  450  337  734  472  125  677  644  913  717  -96  377  937   51  377  997  496  -10 -144  313  770  684  509  277  101  777  697  121  602  373   49   61  524  774  129  343  827  153  420  551  234   89 1003  901  246  871  -71 -144  263\n",
            "  -52  480  949  865  393   52 -107  872  608  -91 -123  720  705  299 -106  622   54 -128  581  251  555  325  712  774  -12   97  898  254  535 -200  831  377  335  859  865   38  121 -185  950  908  582  957  788  707  228  478  912  850  208  321\n",
            "  505   91  579  232  685 -106 -250  344  694   80 -154  958  344  -74  933  247  170  454 -174   -8 -250  236  274  674  -19  514  952  327 -244  395  596  570   83  135 -241  526  471  768 -247  360  618  261  182  908 -140  808  128  840  605  290\n",
            "  162  811  834  169   18  242   21 -136  992  660  571  944  780  -53  145  992 -239  539  -76  124  106  843 -205  339  509  179  461  199  556 -126  673  226  842  575  696  336  395  945  839  898  284  769  934   60  582  852  343   35  971  -84\n",
            "  877  -85  940  619  504  469  392  736  -14  416  716 -154  -19  254  -39   79 -136 -198 -188   40  591  567  -31  702  511  223  768  931  907  286  165 -148  800  988  701  285  569 -113  344  -14  818  929  355  -11  826  248  747  707  748   21\n",
            "  591 -158  670 -139  766  681   19  432  613  105  284 -148  762 -116  172  799  897 -122  -99  128  341  -27  940  986  601  835  177  502  363  981   97  383  740  513  396  293  730  188  541  -57  921  742  852  323   23  265  859 -169  775  649\n",
            "  574  953  844  -53 -242  -16  -70  860  483  494 -115  654   48  618 -234  707  901  374  677  522  836  104  500  136  307  942  499  617  432  631   78   63 -194   66  489  978  994  -29  330  637  776  951  988  881  -84   49  496 -163  344  260\n",
            "  645  853 -116  635  -30 -248  414  690  743   77  828  454  -50  453   22 -244  859   17  834 -155   35  964  146  491  893  263  644 -150  679  -99  288  520  625 -212 -174  -54 -121  393  779  487  879  481  991  662  847  651  849 -205  464   74\n",
            " -172 -178  713   76  596 -156  401  574  817   40  -35  995  -40  234  656  238  954  225  103  -12  490 -161  819  953  -77  487  374  763  138  230   -9   56  764  452  746  -61  736  577  257   19  532 -238  775  581    5  726  264  547  473  -75\n",
            "   15   61  388  223   29  804  768  782  728  -63 -206  140  -99  399 -145  573   23  808  439  158 -248  -54  132  495  186  917  695   68 -184  875    2  361   75 -185   47  730  236  558 -224  828    1 -216  229  759  644  860  307 -149  652 -146\n",
            "  743  945  429  860   16  621 -201  625  489 -195  701  402  703  779  408  842  121  808  -81  224  833  426  492  934  897   16   47  387  509   48  821  450  136  993  -87  462  844  664   34  210   69  192  805 -151 -240  143  815  767  879  227\n",
            "  368  627  189 -226  441  311  883  715  304  816   42  407  473  609  937  980  735  462  701  562  970  -41   94  765  158  657   67  230 -133 -216  761  909  918   20  -22  564  672  805  592   96  -50  554  875  615  247  672  968 -132  -42 -145\n",
            "  496  559  389  -24  368 -241  -85  -93   15 -139  740  689  375   21  285  961 -104  367 -126   94   46  645  -45  189  647  264  867  716   69   55  900  155  209  998 -215   58  752  794   21  973  373  138  672  737  -66  499 -212   84 -181  677\n",
            "  600  -90  711  273  787  117  519 -139  304  672   77  159 -142  281  739 -131  949  248   63  720  652  988  351  659  515  -82  634  447  244  917  408  367  203  175   49  788  611  212  249  683   66  685  714  656  120  226  709  612  -86  822\n",
            "  781  -74  828 -120  335 -174 -122  184  -49  457  712   95  890  380 -199  589 -129  210  906  367  -90  440  856 -155  602 -120  186  185   97  602  809  205  812  234  736  671 -243    2  -45  250  118  459  710  897   -7  581  160  609 1004  325\n",
            "  811    8 -103  671  172  459   91  666   -7 -157   26  191   33  264  877  233 -161   68  239 -244   25  752 -187   56   25 -238  -13  261  569  470 -135 -115 -239  201  966   72  243  649  952  683  964  605  212 -248  336  442  379  202  817  560\n",
            " 1002  506  -51  295  131  727  730 -235  -91  234  119 -115  281  605  637  303  581  482  -92  134  976  918   62  702 -117  827  462  135  551  757  460  338  215  624  -45  756 -205  428  310  153  -38   20   19  -26 -237  722  122  313  133  987\n",
            "  646  956   80  765  508  919  140 -190  563  153  565  573  804  925  956  433  653  373  471  271  608 -106   68  238  -64  421  960 -226  397  514   95  584 -204  312  986 -125  149  839  212 -104 -234 -198  908 -225 -161   35  341  325  -75 -199\n",
            "  308  976  382 -182  836  514  357  799  261  -31  555 -244   64  810  208  956  675  845  968  773  896  538  357 -108   44  953  127  -62  -78  152  -97  -95  883  483  811   62  279  494  735  -62  333  905 -178  518  888  151  377  417  -97   67\n",
            "  975   75  516  196  188  957  -11  124  504  538  778  -81   30  891   12  406  227  833    0 -196  481  554  691  676  584 -170 -212  -11  278 -185  566  648  614  694  162  475   75  893   21  206  813  -30  976  836 -101  935   22  746 -225  492\n",
            " -174  727  106  386    9  349  -49  747  369  954  811  -12  659  395 -217  381  578  984  454  573  925  -12  255  631  877  279  177  979  591  -20  445  317  254  577  734  680  272  372 -127  543  296  416  826  194  688   40 -129  980   33 -158\n",
            " -234  745   63  854   67  338  593  200  -47 -100  380  289 -106 -235    4  487 -122  464  219  579  875   95   88  766 -209  952  194  943  526 -230 -105  698 -190  -15   62  699 -108  339  899  746  920   49  901   -6 -211  795   34  135   93  248\n",
            "  -62  129  646  852  178  197  123 -169   20 -182  747  912  443  261  519  324  588  415  608  686  947  416  728  377  944  129  370 -232  154 -152  171  -29 -213  968  940  345   28  887  985  425  126  774  147  109  330  476 -180 1000  230 -235\n",
            "  854  821  776  777   16 -230  493   73  403  -61  948   40  930  752  944   61  766  974  235 -209  -96  930  573   98 -193  921  460  291 -156  125  560  860  699  984  593  -49  184  927  479  438  895  902  546  433 -157  619  513  345  412  571\n",
            "  -17  541 -172  405  262 -225 -126  454  806  -23  411  689  362  369  446  575  954  207  634  739  641  662  815  699   42  829  126  232  -37  796  742  302  780  219  614   59  398  265  564  431  281 -108  681  257  595 -125  145  704 -130  732\n",
            "\n",
            "Escalated time: 0.011698484420776367\n",
            "\n",
            "\n",
            "Sorting: selection\n",
            "---------------\n",
            "Test passed!\n",
            "---------------\n",
            "\n",
            "Escalated time: 0.0004706382751464844\n",
            "\n",
            "\n",
            "Sorting: insertion\n",
            "---------------\n",
            "Test passed!\n",
            "---------------\n",
            "\n",
            "Escalated time: 0.0002872943878173828\n",
            "\n",
            "\n",
            "Sorting: bubble\n",
            "---------------\n",
            "Test passed!\n",
            "---------------\n",
            "\n",
            "Escalated time: 0.0018384456634521484\n",
            "\n",
            "\n",
            "Sorting: shell\n",
            "---------------\n",
            "Test passed!\n",
            "---------------\n",
            "\n",
            "Escalated time: 0.038466691970825195\n",
            "\n",
            "\n",
            "Sorting: tournament\n",
            "---------------\n",
            "Test passed!\n",
            "---------------\n",
            "\n",
            "Escalated time: 5.841255187988281e-05\n",
            "\n",
            "\n",
            "Sorting: tournament_heapq\n",
            "---------------\n",
            "Test passed!\n",
            "---------------\n",
            "\n",
            "Escalated time: 3.647804260253906e-05\n",
            "\n",
            "\n",
            "Sorting: quick\n",
            "---------------\n",
            "Test passed!\n",
            "---------------\n",
            "\n",
            "Escalated time: 6.437301635742188e-05\n",
            "\n",
            "\n",
            "Sorting: heap\n",
            "---------------\n",
            "Test passed!\n",
            "---------------\n",
            "\n",
            "\n",
            "Sorting times (milliseconds)\n",
            "selection  :  11.698484420776367\n",
            "insertion  :  0.4706382751464844\n",
            "bubble  :  0.2872943878173828\n",
            "shell  :  1.8384456634521484\n",
            "tournament  :  38.466691970825195\n",
            "tournament_heapq  :  0.05841255187988281\n",
            "quick  :  0.03647804260253906\n",
            "heap  :  0.06437301635742188\n"
          ]
        }
      ]
    },
    {
      "cell_type": "code",
      "source": [
        ""
      ],
      "metadata": {
        "id": "XfqxLFMbxcBL"
      },
      "execution_count": null,
      "outputs": []
    }
  ]
}