{
  "nbformat": 4,
  "nbformat_minor": 0,
  "metadata": {
    "colab": {
      "name": "Lab1_BVT2002_GarmashAE.ipynb",
      "provenance": [],
      "collapsed_sections": [],
      "authorship_tag": "ABX9TyMNNGCM2LperU6p3HcCKhdM",
      "include_colab_link": true
    },
    "kernelspec": {
      "name": "python3",
      "display_name": "Python 3"
    },
    "language_info": {
      "name": "python"
    }
  },
  "cells": [
    {
      "cell_type": "markdown",
      "metadata": {
        "id": "view-in-github",
        "colab_type": "text"
      },
      "source": [
        "<a href=\"https://colab.research.google.com/github/fac3lessd0ge/MTUCI_algo/blob/main/Lab/Lab1_BVT2002_GarmashAE.ipynb\" target=\"_parent\"><img src=\"https://colab.research.google.com/assets/colab-badge.svg\" alt=\"Open In Colab\"/></a>"
      ]
    },
    {
      "cell_type": "markdown",
      "source": [
        "# Лабораторная работа №1\n",
        "## Выполнил студент группы БВТ2002 Гармаш Арсений Евгеньевич\n"
      ],
      "metadata": {
        "id": "HOMJEoA82WaX"
      }
    },
    {
      "cell_type": "markdown",
      "source": [
        "## Задание 1"
      ],
      "metadata": {
        "id": "adnq8tVF2ozG"
      }
    },
    {
      "cell_type": "code",
      "execution_count": 118,
      "metadata": {
        "colab": {
          "base_uri": "https://localhost:8080/"
        },
        "id": "-P59jHcp1oF1",
        "outputId": "ad013118-32f9-403c-cd00-ce1f6269eca3"
      },
      "outputs": [
        {
          "output_type": "stream",
          "name": "stdout",
          "text": [
            "Hello, World!\n"
          ]
        }
      ],
      "source": [
        "print('Hello, World!')"
      ]
    },
    {
      "cell_type": "markdown",
      "source": [
        "## Задание 2\n",
        "Написать генератор случайных матриц(многомерных), который принимает <br>\n",
        "опциональные параметры **m, n, min_limit, max_limit**, где **m** и **n** указывают размер <br>\n",
        "матрицы, а **min_lim** и **max_lim** - минимальное и максимальное значение для <br>\n",
        "генерируемого числа . По умолчанию при отсутствии параметров принимать следующие <br>\n",
        "значения: <br>\n",
        "m = 50 <br>\n",
        "n = 50 <br>\n",
        "min_limit = -250 <br>\n",
        "max_limit = 1000 + (номер своего варианта)\n",
        "\n",
        "Ни малейшего понятия не имею, какой у меня вариант, но по списку я 6-й, так что.."
      ],
      "metadata": {
        "id": "JDrVvzI12v65"
      }
    },
    {
      "cell_type": "markdown",
      "source": [
        "### Решение без библиотек"
      ],
      "metadata": {
        "id": "Uznv8fitABE2"
      }
    },
    {
      "cell_type": "code",
      "source": [
        "from random import randint"
      ],
      "metadata": {
        "id": "RXllvc7d4v4Q"
      },
      "execution_count": 119,
      "outputs": []
    },
    {
      "cell_type": "code",
      "source": [
        "def trivial_matrix(min_limit = -250, max_limit = 1006, size = (50, 50)):\n",
        "    \"\"\"\n",
        "    Returns matrix where the values are random integers between \n",
        "    min_limit and max_limit\n",
        "    \"\"\"\n",
        "    result = []\n",
        "    for i in range(size[0]):\n",
        "        row = []\n",
        "        for j in range(size[1]):\n",
        "            row.append(randint(min_limit, max_limit))\n",
        "        result.append(row)\n",
        "    return result"
      ],
      "metadata": {
        "id": "87nkJRxd2vBe"
      },
      "execution_count": 120,
      "outputs": []
    },
    {
      "cell_type": "code",
      "source": [
        "def print_matrix(matrix):\n",
        "    print('\\n'.join([''.join(['{:5}'.format(item) for item in row]) for row in matrix]))"
      ],
      "metadata": {
        "id": "AmFpXNx-6aoa"
      },
      "execution_count": 121,
      "outputs": []
    },
    {
      "cell_type": "code",
      "source": [
        "sample = trivial_matrix()\n",
        "\n",
        "print('---------------------')\n",
        "print(f'Matrix size: ({len(sample)}, {len(sample[0])})\\n')\n",
        "print(f'Maximum: {max(map(max, sample))} | Minimum: {min(map(min, sample))}')\n",
        "print('---------------------\\n')\n",
        "\n",
        "print_matrix(sample)"
      ],
      "metadata": {
        "id": "hT8nHXZP54bd"
      },
      "execution_count": null,
      "outputs": []
    },
    {
      "cell_type": "markdown",
      "source": [
        "### Решение с помощью NumPy"
      ],
      "metadata": {
        "id": "vMz7WFFj9FpV"
      }
    },
    {
      "cell_type": "code",
      "source": [
        "import numpy"
      ],
      "metadata": {
        "id": "PhAQShW659qY"
      },
      "execution_count": 123,
      "outputs": []
    },
    {
      "cell_type": "code",
      "source": [
        "def numpy_array(min_limit = -250, max_limit = 1006, size = (50, 50)):\n",
        "    return numpy.random.randint(min_limit, max_limit, size)"
      ],
      "metadata": {
        "id": "hK9XTrcr-3h-"
      },
      "execution_count": 124,
      "outputs": []
    },
    {
      "cell_type": "code",
      "source": [
        "sample2 = numpy_array()\n",
        "\n",
        "print('---------------------')\n",
        "print(f'Matrix size: ({len(sample2)}, {len(sample2[0])})\\n')\n",
        "print(f'Maximum: {max(map(max, sample2))} | Minimum: {min(map(min, sample2))}')\n",
        "print('---------------------\\n')\n",
        "\n",
        "\n",
        "print_matrix(sample2)"
      ],
      "metadata": {
        "id": "U8qXheup_Y7y"
      },
      "execution_count": null,
      "outputs": []
    },
    {
      "cell_type": "markdown",
      "source": [
        "## Задание 3\n",
        "Реализовать методы сортировки строк числовой матрицы в соответствии с\n",
        "заданием. Оценить время работы каждого алгоритма сортировки и сравнить его со\n",
        "временем стандартной функции сортировки. Испытания проводить на сгенерированных\n",
        "матрицах.\n",
        "\n",
        "Методы:\n",
        "*   Выбором\n",
        "*   Вставкой\n",
        "*   Обменом \n",
        "*   Шелла\n",
        "*   Турнирная\n",
        "*   Быстрая сортировка\n",
        "*   Пирамидальная\n",
        "\n"
      ],
      "metadata": {
        "id": "KSmaXpC8AR8A"
      }
    },
    {
      "cell_type": "markdown",
      "source": [
        "### Сортировка выбором"
      ],
      "metadata": {
        "id": "sr3xmG9RBezq"
      }
    },
    {
      "cell_type": "code",
      "source": [
        "def selection_sort(li):\n",
        "    for i in range(len(li)):\n",
        "        min_ind = i\n",
        "\n",
        "        for j in range(i, len(li)):\n",
        "            if li[min_ind] > li[j]:\n",
        "                li[min_ind], li[j] = li[j], li[min_ind]\n",
        "\n",
        "    return li"
      ],
      "metadata": {
        "id": "khcjWEVYBdq6"
      },
      "execution_count": 126,
      "outputs": []
    },
    {
      "cell_type": "code",
      "source": [
        "def selection_sort_matrix(matrix):\n",
        "    for row in matrix:\n",
        "        selection_sort(row)\n",
        "\n",
        "    return matrix"
      ],
      "metadata": {
        "id": "Ul0Rtb6sFVJb"
      },
      "execution_count": 127,
      "outputs": []
    },
    {
      "cell_type": "markdown",
      "source": [
        "### Сортировка вставкой"
      ],
      "metadata": {
        "id": "0WwolNr9JHLY"
      }
    },
    {
      "cell_type": "code",
      "source": [
        "def insertion_sort(li, step: int = 1):\n",
        "    length = len(li)\n",
        "    if length <= 1: return li\n",
        "\n",
        "    start_index = step\n",
        "    for i in range(start_index, length, step):\n",
        "        j = i\n",
        "\n",
        "        while j > 0 and li[j-step] > li[j]:\n",
        "            li[j-step], li[j] = li[j], li[j-step]\n",
        "            j -= step\n",
        "    return li"
      ],
      "metadata": {
        "id": "q4LW3IsVJLc3"
      },
      "execution_count": 128,
      "outputs": []
    },
    {
      "cell_type": "code",
      "source": [
        "def insertion_sort_matrix(matrix, step: int = 1):\n",
        "    for row in matrix:\n",
        "        insertion_sort(row, step)\n",
        "    return matrix"
      ],
      "metadata": {
        "id": "9GlCDG7mkYiO"
      },
      "execution_count": 129,
      "outputs": []
    },
    {
      "cell_type": "markdown",
      "source": [
        "### Сортировка обменом\n",
        "Сортировка обменом - термин довольно широкий. Однако тут я реализую пожалуй самый популярный вид сортировки обменом - пузырьковую"
      ],
      "metadata": {
        "id": "74sUIZRIxA-A"
      }
    },
    {
      "cell_type": "code",
      "source": [
        "def bubble_sort(li):\n",
        "    n = len(li)\n",
        "    if n <= 1: return li\n",
        "\n",
        "    while True:\n",
        "        swapped = False\n",
        "\n",
        "        for i in range(1, n):\n",
        "            if li[i-1] > li[i]:\n",
        "                li[i-1], li[i] = li[i], li[i-1]\n",
        "                swapped = True\n",
        "            \n",
        "        n -= 1\n",
        "        if not swapped: break\n",
        "\n",
        "    return li"
      ],
      "metadata": {
        "id": "nLPgDgkbxVOG"
      },
      "execution_count": 130,
      "outputs": []
    },
    {
      "cell_type": "code",
      "source": [
        "def bubble_sort_matrix(matrix):\n",
        "    for row in matrix:\n",
        "        bubble_sort(row)\n",
        "    return matrix"
      ],
      "metadata": {
        "id": "D7jl9dWo01hq"
      },
      "execution_count": 131,
      "outputs": []
    },
    {
      "cell_type": "markdown",
      "source": [
        "### Сортировка Шелла\n"
      ],
      "metadata": {
        "id": "4cHKwU0D1r_W"
      }
    },
    {
      "cell_type": "code",
      "source": [
        "def shell_sort(li):\n",
        "    n = len(li)\n",
        "    step = n // 2\n",
        "\n",
        "    while step > 0:\n",
        "        for i in range(step, n):\n",
        "            j = i\n",
        "            delta = j - step\n",
        "            while delta >= 0 and li[delta] > li[j]:\n",
        "                li[delta], li[j] = li[j], li[delta]\n",
        "                j = delta\n",
        "                delta = j - step\n",
        "        step //= 2\n",
        "    return li"
      ],
      "metadata": {
        "id": "NT1hm94M2pYW"
      },
      "execution_count": 132,
      "outputs": []
    },
    {
      "cell_type": "code",
      "source": [
        "def shell_sort_matrix(matrix):\n",
        "    for row in matrix:\n",
        "        shell_sort(row)\n",
        "    return matrix"
      ],
      "metadata": {
        "id": "jI5IWTuB5wwN"
      },
      "execution_count": 133,
      "outputs": []
    },
    {
      "cell_type": "markdown",
      "source": [
        "## Быстрая сортировка"
      ],
      "metadata": {
        "id": "RwNEmYBzZ90I"
      }
    },
    {
      "cell_type": "code",
      "source": [
        "def partition(li: list, start, end):\n",
        "    x = li[start]\n",
        "\n",
        "    j = start\n",
        "\n",
        "    for i in range(start + 1, end + 1):\n",
        "        if li[i] <= x:\n",
        "            j += 1\n",
        "            li[j], li[i] = li[i], li[j]\n",
        "        \n",
        "    li[start], li[j] = li[j], li[start]\n",
        "    return j\n",
        "\n",
        "def quick_sort(li: list, start, end):\n",
        "    if start >= end: return\n",
        "\n",
        "    m = partition(li, start, end)\n",
        "    quick_sort(li, start, m - 1)\n",
        "    quick_sort(li, m + 1, end)\n",
        "\n",
        "def do_a_quick_sort(li: list) -> None:\n",
        "    end = len(li) - 1\n",
        "    quick_sort(li, 0, end) \n"
      ],
      "metadata": {
        "id": "IHBJVqXhaAec"
      },
      "execution_count": 160,
      "outputs": []
    },
    {
      "cell_type": "code",
      "source": [
        "def do_a_quick_sort_for_matrix(matrix):\n",
        "    for i in range(len(matrix)):\n",
        "        do_a_quick_sort(matrix[i])"
      ],
      "metadata": {
        "id": "PQbXyNxmsR_l"
      },
      "execution_count": 164,
      "outputs": []
    },
    {
      "cell_type": "code",
      "source": [
        "a = [randint(-15, 15) for i in range(50)]\n",
        "print(a)\n",
        "do_a_quick_sort(a)\n",
        "print(a)\n"
      ],
      "metadata": {
        "id": "ulGGUaPwrOXY"
      },
      "execution_count": null,
      "outputs": []
    },
    {
      "cell_type": "markdown",
      "source": [
        "## Турнирная сортировка"
      ],
      "metadata": {
        "id": "kMlEkmdyflc7"
      }
    },
    {
      "cell_type": "code",
      "source": [
        "class PriorityHeap():\n",
        "\n",
        "    def min_heapify(self, li: list, n: int, _current: int) -> list:\n",
        "        current = _current\n",
        "        right = 2 * _current + 2\n",
        "        left = 2 * _current + 1\n",
        "\n",
        "        if right < n and li[right] < li[current]:\n",
        "            current = right\n",
        "        if left < n and li[left] < li[current]:\n",
        "            current = left\n",
        "        if current != _current:\n",
        "            li[_current],li[current] = li[current],li[_current]\n",
        "            self.min_heapify(li, n, current)\n",
        "        return li\n",
        "\n",
        "    def update_queue(self, queue: list):\n",
        "        for i in range(len(queue) // 2 - 1, -1, -1):\n",
        "            self.min_heapify(queue, len(queue), i)  \n",
        "\n",
        "    def __init__(self, array = []):\n",
        "        if len(array) == 0 or len(array) == 1:\n",
        "            self.queue = array\n",
        "            return\n",
        "\n",
        "        self.start = array.copy()\n",
        "        self.queue = self.start.copy()\n",
        "        \n",
        "        self.update_queue(self.queue)\n",
        "\n",
        "    def __str__(self):\n",
        "        return f'[{\", \".join(map(lambda x: str(x), self.queue))}]'\n",
        "\n",
        "    def pop(self, index: int):\n",
        "        temp = self.queue.pop(index)\n",
        "        self.update_queue(self.queue)\n",
        "        return(temp)\n",
        "    \n",
        "    @property\n",
        "    def length(self):\n",
        "        return len(self.queue)\n",
        "\n",
        "    def add(self, value: int):\n",
        "        self.queue.append(value)\n",
        "        self.update_queue(self.queue)"
      ],
      "metadata": {
        "id": "lLY5N87Irp-X"
      },
      "execution_count": 135,
      "outputs": []
    },
    {
      "cell_type": "code",
      "source": [
        "def tournament_sort(li: list) -> list:\n",
        "\n",
        "    length = len(li)\n",
        "\n",
        "    winners = []\n",
        "    losers = []\n",
        "\n",
        "    queue = PriorityHeap()\n",
        "    while queue.length < 15 and len(li) >= 0:\n",
        "        queue.add(li.pop(0))\n",
        "\n",
        "    while len(li) != 0:\n",
        "\n",
        "        if len(winners) == 0:\n",
        "            winners.append(queue.pop(0))\n",
        "\n",
        "        if li[0] > winners[-1]:\n",
        "            queue.add(li.pop(0))\n",
        "        else:\n",
        "            losers.append(li.pop(0))\n",
        "\n",
        "        #if queue.length != 0: winners.append(queue.pop(0))\n",
        "        \n",
        "    while queue.length != 0:\n",
        "        winners.append(queue.pop(0))\n",
        "\n",
        "    if len(losers) == 0: return winners\n",
        "    else:\n",
        "        li = losers + winners\n",
        "        return tournament_sort(li)"
      ],
      "metadata": {
        "id": "trQGdifZtj_V"
      },
      "execution_count": 136,
      "outputs": []
    },
    {
      "cell_type": "code",
      "source": [
        "import heapq"
      ],
      "metadata": {
        "id": "5N3pd7XbDpkA"
      },
      "execution_count": 137,
      "outputs": []
    },
    {
      "cell_type": "code",
      "source": [
        "def tournament_sort_heapq(li: list) -> list:\n",
        "\n",
        "    length = len(li)\n",
        "\n",
        "    winners = []\n",
        "    losers = []\n",
        "\n",
        "    queue = []\n",
        "    while len(queue) < len(li) // 2:\n",
        "        heapq.heappush(queue, li.pop(0))\n",
        "\n",
        "    while len(li) != 0:\n",
        "\n",
        "        if len(winners) == 0:\n",
        "            winners.append(heapq.heappop(queue))\n",
        "\n",
        "        if li[0] > winners[-1]:\n",
        "            heapq.heappush(queue, li.pop(0))\n",
        "        else:\n",
        "            losers.append(li.pop(0))\n",
        "\n",
        "        #if len(queue) != 0: winners.append(heapq.heappop(queue))\n",
        "        \n",
        "    while len(queue) != 0:\n",
        "        winners.append(heapq.heappop(queue))\n",
        "\n",
        "    if len(losers) == 0: return winners\n",
        "    else:\n",
        "        li = losers + winners\n",
        "        return tournament_sort_heapq(li)"
      ],
      "metadata": {
        "id": "y_Jp1T1WD4rD"
      },
      "execution_count": 138,
      "outputs": []
    },
    {
      "cell_type": "code",
      "source": [
        "import random"
      ],
      "metadata": {
        "id": "fo56DzsSzLcv"
      },
      "execution_count": 139,
      "outputs": []
    },
    {
      "cell_type": "code",
      "source": [
        "import time"
      ],
      "metadata": {
        "id": "X5vRrQGX4Ap4"
      },
      "execution_count": 140,
      "outputs": []
    },
    {
      "cell_type": "code",
      "source": [
        "test = [random.randint(0, 100_000) for n in range(1000)]\n",
        "\n",
        "a1 = time.time()\n",
        "print(tournament_sort(test))\n",
        "b1 = time.time()\n",
        "print(b1-a1)\n",
        "\n",
        "# Разница по времени - любопытная\n",
        "\n",
        "\n",
        "test2 = [random.randint(0, 100_000) for n in range(200_000)]\n",
        "a2 = time.time()\n",
        "print(tournament_sort_heapq(test2))\n",
        "b2 = time.time()\n",
        "print(b2-a2)\n"
      ],
      "metadata": {
        "id": "1liWFuTdzGc3"
      },
      "execution_count": null,
      "outputs": []
    },
    {
      "cell_type": "code",
      "source": [
        "def tournament_sort_matrix(matrix):\n",
        "    for i in range(len(matrix)):\n",
        "        matrix[i] =  tournament_sort(matrix[i])\n",
        "    return matrix\n",
        "\n",
        "def tournament_sort_heapq_matrix(matrix):\n",
        "    for i in range(len(matrix)):\n",
        "        matrix[i] = tournament_sort_heapq(matrix[i])\n",
        "    return matrix"
      ],
      "metadata": {
        "id": "lbzIPaNMhLeu"
      },
      "execution_count": 142,
      "outputs": []
    },
    {
      "cell_type": "markdown",
      "source": [
        "##Пирамидальная сортировка"
      ],
      "metadata": {
        "id": "-FcAF2OxuFcs"
      }
    },
    {
      "cell_type": "code",
      "source": [
        "def heapify(li: list, n: int, _largest: int) -> list:\n",
        "    largest = _largest\n",
        "    right = 2 * _largest + 2\n",
        "    left = 2 * _largest + 1\n",
        "\n",
        "    if right < n and li[right] > li[largest]:\n",
        "        largest = right\n",
        "\n",
        "    if left < n and li[left] > li[largest]:\n",
        "        largest = left\n",
        "    \n",
        "    if largest != _largest:\n",
        "        li[_largest],li[largest] = li[largest],li[_largest]\n",
        "        heapify(li, n, largest)\n",
        "\n",
        "    return li"
      ],
      "metadata": {
        "id": "myt1EDDFuJZi"
      },
      "execution_count": 143,
      "outputs": []
    },
    {
      "cell_type": "code",
      "source": [
        "def heap_sort(li) -> list:\n",
        "    n = len(li)\n",
        "\n",
        "    for i in range(n // 2 - 1, -1, -1):\n",
        "        heapify(li, n, i)\n",
        "    \n",
        "    for i in range(n-1, 0, -1):\n",
        "        li[i], li[0] = li[0], li[i]\n",
        "        heapify(li, i, 0)\n",
        "\n",
        "    return li\n"
      ],
      "metadata": {
        "id": "IUvYoN1K0lyZ"
      },
      "execution_count": 144,
      "outputs": []
    },
    {
      "cell_type": "code",
      "source": [
        "test = [random.randint(0, 10_000) for n in range(100000)]\n",
        "\n",
        "a = time.time()\n",
        "print(heap_sort(test))\n",
        "b = time.time()\n",
        "\n",
        "print(b-a)"
      ],
      "metadata": {
        "id": "CoI2lP5F8LKz"
      },
      "execution_count": null,
      "outputs": []
    },
    {
      "cell_type": "code",
      "source": [
        "def heap_sort_matrix(matrix):\n",
        "    for row in matrix:\n",
        "        heap_sort(row)\n",
        "    return matrix"
      ],
      "metadata": {
        "id": "ro4JYMHO2nlo"
      },
      "execution_count": 146,
      "outputs": []
    },
    {
      "cell_type": "code",
      "source": [
        "arr = [ 12, 11, 13, 5, 6, 7]\n",
        "heap_sort(arr)\n",
        "n = len(arr)\n",
        "print (\"Sorted array is\")\n",
        "arr"
      ],
      "metadata": {
        "colab": {
          "base_uri": "https://localhost:8080/"
        },
        "id": "S7Fg7NF52RT0",
        "outputId": "787a6e26-e6a7-4449-d70e-98d38aed1e48"
      },
      "execution_count": 147,
      "outputs": [
        {
          "output_type": "stream",
          "name": "stdout",
          "text": [
            "Sorted array is\n"
          ]
        },
        {
          "output_type": "execute_result",
          "data": {
            "text/plain": [
              "[5, 6, 7, 11, 12, 13]"
            ]
          },
          "metadata": {},
          "execution_count": 147
        }
      ]
    },
    {
      "cell_type": "markdown",
      "source": [
        "### Тесты сортировок"
      ],
      "metadata": {
        "id": "CLuR_QTzC9qU"
      }
    },
    {
      "cell_type": "code",
      "source": [
        "import time"
      ],
      "metadata": {
        "id": "za5pagZb7VJ2"
      },
      "execution_count": 148,
      "outputs": []
    },
    {
      "cell_type": "code",
      "source": [
        "class SortingError(Exception):\n",
        "    pass\n",
        "\n",
        "def sort_n_test(matrix, method : str = 'selection', print_result = True):\n",
        "\n",
        "    methods = {\n",
        "        'selection': selection_sort_matrix,\n",
        "        'insertion': insertion_sort_matrix,\n",
        "        'bubble': bubble_sort_matrix,\n",
        "        'shell': shell_sort_matrix,\n",
        "        'tournament': tournament_sort_matrix,\n",
        "        'tournament_heapq': tournament_sort_heapq_matrix,\n",
        "        'quick': do_a_quick_sort_for_matrix,\n",
        "        'heap': heap_sort_matrix\n",
        "    }\n",
        "    a = time.time()\n",
        "    sorted = methods[method](matrix)\n",
        "    if method == 'quick': sorted = matrix\n",
        "    b = time.time()\n",
        "\n",
        "\n",
        "    print(f'\\nEscalated time: {b - a}\\n\\n')\n",
        "    if print_result: print_matrix(sorted)\n",
        "\n",
        "    for row in sorted:\n",
        "        for i in range(1, len(row)):\n",
        "            if row[i] < row[i-1]:\n",
        "                raise SortingError(\"Something's wrong!\")\n",
        "\n",
        "    print('Sorting:', method)\n",
        "    print('---------------')\n",
        "    print('Test passed!')\n",
        "    print('---------------')\n",
        "\n",
        "    return b - a"
      ],
      "metadata": {
        "id": "eQ7-u5dOGVij"
      },
      "execution_count": 177,
      "outputs": []
    },
    {
      "cell_type": "code",
      "source": [
        "def test_complexity(method : str = 'selection') -> list:\n",
        "    results = []\n",
        "\n",
        "    methods = {\n",
        "        'selection': selection_sort_matrix,\n",
        "        'insertion': insertion_sort_matrix,\n",
        "        'bubble': bubble_sort_matrix,\n",
        "        'shell': shell_sort_matrix,\n",
        "        'heap': heap_sort_matrix\n",
        "    }\n",
        "    \n",
        "\n",
        "    dimensions = [25 * (2 * i - 1) for i in range(1, 4000, 50)]\n",
        "\n",
        "    for i in dimensions:\n",
        "        test_mat = trivial_matrix(size = (1, i))\n",
        "\n",
        "        a = time.time()\n",
        "        sorted = methods[method](test_mat)\n",
        "        b = time.time()\n",
        "\n",
        "        results.append(b - a)\n",
        "\n",
        "    return results\n"
      ],
      "metadata": {
        "id": "aNnXFycI3h-M"
      },
      "execution_count": 150,
      "outputs": []
    },
    {
      "cell_type": "code",
      "source": [
        "test_samples = trivial_matrix()\n",
        "\n",
        "print('\\n\\n-------------------')\n",
        "print('Generated matrix')\n",
        "print('-------------------\\n\\n')\n",
        "print_matrix(test_samples)\n",
        "\n",
        "sorts = ['selection', 'insertion', 'bubble', 'shell', 'tournament', 'tournament_heapq', 'quick', 'heap']\n",
        "\n",
        "res = [sort_n_test(test_samples.copy(), method = p, print_result = False) for p in sorts]\n",
        "print('\\n\\nSorting times (milliseconds)')\n",
        "for i, sort in enumerate(sorts):\n",
        "    print(sort, ' : ', str(res[i] * 1000))\n",
        "\n",
        "\n",
        "print('\\n\\n-------------------')\n",
        "print('Тест стандартной сортировки')\n",
        "print('-------------------\\n\\n')\n",
        "res1 = test_samples.copy()\n",
        "a = time.time()\n",
        "res1 = res1.sort()\n",
        "b = time.time()\n",
        "\n",
        "print('Sorting: standart python (Timsort)')\n",
        "print((b - a) * 1000)\n",
        "\n",
        "#print(res)"
      ],
      "metadata": {
        "colab": {
          "base_uri": "https://localhost:8080/"
        },
        "id": "SVEfwKzhDApM",
        "outputId": "89cbde4d-6a8e-4b68-f822-1eabd66bd366"
      },
      "execution_count": 184,
      "outputs": [
        {
          "output_type": "stream",
          "name": "stdout",
          "text": [
            "\n",
            "\n",
            "-------------------\n",
            "Generated matrix\n",
            "-------------------\n",
            "\n",
            "\n",
            "  409  145  729 -210 1000  500  224  945  535  442  742  910   14  664  431  634  278  591  330  879   46  356  420  264  114  719   -5   62  535  177  -61   72   13 -203  538  372  923 -178  319   11  231  -67  720  480  215  217  691  330  379  550\n",
            "  672  438  -37  674  947 -135 -224 -168   10 -206  655  482  847  103  723   31  198  625  397  406  561  299  960   48  282  133  692  612  820  931  898  674   28  942  207  251  610  183  891  -56  235  651  401   14  539  334  433  876 -175  -43\n",
            "   84  604  183  -62  842  408  716  127  140  340  486  -54  527 -167  961  554  474  997  143  574  703  272  785  733  615  396  586  132  753  168  350  -96   31  325  516  943  -82  223  587  204  -37  465  421   37  320  871 -216  323  534  113\n",
            "  749  624   88  688  840  261  445  565  136  303  222  910 -109  536 -115  564  934  876  -14  606  996  372   23  425  614 -241  958  -10  765  688  231  -15  835 -140  603  994  570 -205  953  194  900   54  998  873  370   94  922  347  526  136\n",
            "  154   10 -125   66  300  941  944  572  -91  126  599  172  695  993 -178  805  696  983    6  -55  431  393  635  728  205   91 -115   83  930  -23 -140 -171 -151  -23   33  593  956  953  446  211  255  724 -159  450  -96  966  538  997 -139  160\n",
            "  830  280  845 -188  279  960  928   59  113  984  830  759 -110  917  698 -246  347  354  263  299   40  552  609   70  471  601  -27  178  654 -148  859 -240  933  -98  805  711  -70  421  828  861  -60 -114  131  933  361  749  -37  913  422  857\n",
            "  592  -68  927   -5  984  520  -40  447  296   61  602  912  363   81 -102  664  755  417   22 -130 -170  763  195  203 -115  502  102  576  649  859  813  502  791 -177  369  320 1002  981  413  317  163  -86  -61  232 -103  610  280  919  914  359\n",
            " -157 -117   -2 -208  425  809  124  889   -9  -26  714  525  967  460  604  968  212  913    0  497  -18  544  770   32  252  873  958  -40  704   73  778  833  145  -14 -195  534  811 -240  322 -227  297   53  431 -115   99  340  304  258  289  475\n",
            " -163 -241  289  785  828   20  924  275 -186  363  468  -81  153  663  288   32   91  669   62 -157 -133  -21  124  -18  924  950  719  396  607  178 -140  202  451  761  208  668  359  -45  613  254  311 -177  302  671  564  845  210  556   94  767\n",
            "  354  186  791 -230  118  205  312  493 -119  554  318  964  251  866  885  347  140  436  -89 -163  334  387   87  507  187 -231  243  496  149  868 -119  176  920 -178  657  693 -208   -8  769 1006  197  296  340 -180  543 -194 -143  856  -34   67\n",
            "  182  239  821  609  572  816  632  903  451  674   36 -186   -8  318  406  332 -200  549  225 -152  384   55  382  143  424  698 -167  823 -180   55  355  253  569   31 -174 -139  -69  -62  875   33   45  255  651  727  962 -125  920  411  889   90\n",
            "  235  482  476  587  770  663  -67 1004   49   24  687  213  792  -68 -112    5 -114  348  879  387  232  233  633  670  901  546  132  511  329  183  975  765  624  308  351 -151  555  294 -120  689  211  558  337  -38    7  196  -94   31 -155  618\n",
            "  185  692  232  446 -133  511  706  373  383  445 -210 -176  254  689  454  809 -247  377  -18  639  516  952  -82  383  439  387  221 -206  897  516  358  347  169   84  579  701  -18  295  995 -157  928  725 -202 -210  282  637  346  336 1000 -133\n",
            "   23  489  855  579 -200  520   18  517  -76  403  865 -163  923 -112  144  891  960  163 -164  706  -38  789  234  594  -60  581  -65    0 -179  501  953  -58  561  499  164 -235  829   35  757  566  894  422    3  -17   59 -210  778  497  806  903\n",
            " -214    1  713  354  567  128  415  134  196  995  390  633  -21  450  853  650  201  150  927 -118  633  442 -136  693  968  249  360  874  491  563  246  230   89  192  273 -171  -61   58 -189  302 -113  455  249  300 -195   83  414  160 -224  934\n",
            "  558   27  446 -154  355 -125 1001  102  677  663  265  973  -87 -234 -221  -69  685  643  847  270  -88  -76  505  905 -242   82  128   64  889  255   40  463   35  369   93 -103  971  593  476  320   51 -165  -50  252  559  640  472 -205  737  132\n",
            "  199  613   80  150  843  101  580 -102  294  987  740  176 1000  691 -236  437  149  286   60  650  875   27  699 -124 -178  -47  -74  115  827  500  443   26  777  181  801  -58  405  812  279  560  448  966 -144  894  397 -179  772 -179  334  -42\n",
            " -168 1001  741  -84  418  393  515  964   83  695 -214  972  995  724  -65  147 -157  681  118 -156 -140  926 -178  497 -147  973  382  440  271  358 -133   57 -101  654  -89  713   39  933  606   55   19  -54  935  187  -69 -145  208  792  309  343\n",
            "  931  248   55  182  830  621 -198 -146  557  937 -139  660  261  676  831  916  830  531  516  687 -110  520  160   34  385  744  197  -97 -234  998  209  844  478  738  -17    8  356   61  539  651 -202  840 1000  360    6  875  200  103  502 -176\n",
            "  145 -205  265  -87  553  455 -231  855  215  971 -163  288  765 -183  667  770  773  261   24  442  380  383  933   74  936  201 -226  634  921  328  334 -165  278  546  709  738  838  606  481  364  205  822  226  629  -47 -152  925  637  142  -20\n",
            "  385 -197  682  865 -102  417  534  822  366  403  118  301 -114  479  337  879  -90  968  931  760  173  869 -234  987  342  424  697  312  169 1001  274 -133  420  801  264  671  648  362   11  921  723  634  426  884  183  440  828  888  -50 -227\n",
            "  529  275  642  596  589 -133 -116 -156  370  551  615 -129  750  595  561  343 -127  426  438  821  792  634 -186  447  814  602  -74 -149  580  773  288  815  747  545  598  716  990  235   62 -157  136  508  687  826  731  341  782  290  927 -202\n",
            "  406  965  302  998 -241  799  982  696  781  964  844 -236   13  627 -195  379  718   22  243  264  657  573  953 -165  174  -22  510  671  520 -126 -160  988  757   -3 -122 -243  807   76   98 -210  286  638 -153  -30   31  609 -164   46  579 -155\n",
            "  287 -241  626  956 -110  415  -14  401  675 -191  913  166  973 -113 -106  234   62  920  314  168  152  886  227  386  984  491  337  840  -67  306  391  569  935    0  814 -215 -245  263 -106  726  880  624  -91  238  -78  124  948  195  725  503\n",
            "  703  720  455  437  551  764  952  383  768 -116  676  883  972 -134  456  492  477  709  186  168  290  140  298   54  800  -55  570  729  941  213  792 -235   22   53  754  -52  -78 -139  783 -250 -132  925  357  -53  588  934  107  318  219  499\n",
            "  -27  859  164  -76  253  664  313  106  391  735  -53   28  988  268  833  396  148  941   28  772  430  721  894  361 -180   98 -102  -89  663  564 -211  955  693 -120  -73  -53  377  166  -89  594  185  822  167  546 -246  659  733  766  640 -160\n",
            "  429 -220  542  875  150  677  757 -100  -55  144   75  -57 -228  774  761  900  828  574  262  447  178   42  -33  604  545   50 -107  387  227 -230  499  -36  858  288  884  175 -181  618   11  -40  629  550   21  -92  467  864  901  558  605  240\n",
            "  392 -239 -181  819  988  759  757  149  466  137  802  520  185  341  973   66  865   90  350  -29  359  974  598  791   47  855  637  337   11  -59   32  146  553  316  581  997  204  518   84 -233   60  823  961 -247  948   -4  243  -56  924  528\n",
            "  547  679  538  887  910  411  891 -181 -149  190  792  296 -155  178  227  -44  114  637  814  690  -76  138  712  213  111  -14  -65   68  389  834  604  635  839  998  291 -123    4  646  -80 -196  123  708  789  664  567  594  607  853  308  182\n",
            "  610   12  487  -55  818  925  965  590 -132  -60  149  867  604  716  982  837  301  549  442  839  -62  550  868  544  326  598  655  765  716   38  568  403  -20  856 -192 -154  886  984   -5 -104  591   55  453  272   67   44  707  639  688  972\n",
            "  685  499 -133  499  370  995  161  466 -226  666  409   92  141 -220  342  867  806 -250  662 -220  286  646  402  583  171  986   61 -135  372 1004  -98  857  211  -52  305 -239  890  207  646  569  -48   80   55 -207  621  866  299  375  146  505\n",
            "  407  159  186  518  907  187  259  318 -207  830  780  240  932  963   23  255  183  268  198  626  595  722  121  707  -29 -182  -37 -208  603  -66  608  740  279  588  587   82  264  653  -74  970  338  -22  129  892   27  559  343  338 -188  257\n",
            "  587  134  473   20  582  945  689  352  897  651  412  -26  297 -136  327  538  526  -74  443  172  730  652  375  323  475  933  610   47  891  672  701  611 -245  362  517  -85  976  346   21  281  333   46  893   42  622  211  295  452  317  423\n",
            " -236 -151 -141  984  600  841  819  166  773  270  347  271  403  866 -127  690  176   72  681  678  112  276  191  193  987  770  164 -104  588  521  334  921  738  371  485  688  378  135  807  191  944  130  -62 -199  101   57  927  276  341  794\n",
            "  297  547  410  590 -173  -25  469  520  195  231  823  152  204 -186  -50  261  843 -151   60  302  401  954  533  376  942  624  525 -166  741  381  186   77  810 -143  -83  -87   40  301  713  -67 -110  442  425  231  776  386  238  352   31  585\n",
            "  -72  196  -67  680  -76  195  699   -7  -53 -204  235  194  565 -143  422  389  397  144  288  619  429  335  240  747 1004  964  520  258  883  345  983  501  -25  647   27  386  928  348  722  925  754  766  -90  121  480 -175  477   96 -214  856\n",
            "  346 -244  365  363  896   82  -50  354  160  547  -63  111  499  499 -186 -137  119  481  111  424  509   46  408  373  893   -5  826  562  863  -68  781 -116  416  826   38  422  862  440  908  840  242  683  350  872  402 -159   40  281  580  169\n",
            "  587 -178  -35  531  -94 -113  181  883  972   94  441  350  592  105  750 -192  850  974  748  430  503  722  -17  591  913 -129  638  633  735  849  529  820  949  888  607  375   20  471  560  619  818  116  499  605  132  260   99 -108   36  880\n",
            "  561  567  690  171   72  590   68  152  560  679 -234  -88  374  921  479  589  -67  782  144  619  496  656  318  400  211  118  593  563  718 -119  668  832  482  -87  845  -47  406   -5  254  308  946  212  532  214   38  726  528 -215  984  684\n",
            "  637  505  746  247  145 1006  778  444  113 -143  660  252  190  -16  917  369  735  527  624  287  930  204  365  496  560  880  487  632 -139  -66  383  -71  -64  604  774  635  921  419  434  488  816  672 -232  930  907  503  -51 -127  152  300\n",
            " -133  144  854  989  737  -30  811  100  303  192   -3  512  646   26 -161  267  247 -194  777  584 -182  476  894  207  400  834  550   14 -215  402  310  244  601  410  -91  630  816  812  312  770  906  728  474 -174  -63  -60  704  542  245  440\n",
            "   39  137  925  502  658 -198  979  491  239  379  751  741  236  501  365  907  654  495  285  986  138  547  951  445  556  957   96    1  133  392  927  947  723  927  460  621 -123  714   86  -37  985  286  613  853  203  391  114  146   29  806\n",
            "  460  763   27  590   23  787  771  108  711  820    7  899  401   89  183 -154  950  616  873   93  206  127  415 -147  104  818   55  459  630 -118 -191  707  367  594  158  511  895  859  726  968  -85  826 -171  767  311  984  913 -119  690  172\n",
            "  891  962    3  722 -180  -24  881  788  604  619  823  949  571  948  -59  111   38  243 1000  106    5  346   93  226   -6  628  540  432  456  -87 -226  181  -53  536  865  480    4  -86  887   34  890   18  774  438  961  849   81 -154  927  392\n",
            "  831 -127 -187  -22  135  668  765  359 -228  977 -193  458  502  284  289  222  235  -11  504  532   -9  673  182  258  859  335  164 -193  595   92   -7  148  704  883  616 -184  735  487  -16  789  202  667  212  894  159 -138  229  725   97   25\n",
            "  777  405  655 -246   11  930  897  984  862  603  707  933  960 -207  380  383  455  416  -67  906  280  421  987  639 -150  397  913 -169  873  719  255  641  794 1005  -61   19  761   63  720  211 -227  560  178  295 -234  -39  880  698  314  547\n",
            "   70 -136  924  516   81  -19  398   80  503  187  376  709  847  -22  723  701  638  446  604  410  782  -81  647  110   58  298  196 -211 -113  957  950   79  869  957  443  770 -213  741  415  -11 -228  853  770  791  138  678 -137  130  961  947\n",
            "  -85 -160  867  494  437  741  -37  -37  406  359  728  596  779 -121  238  262  952  111  718  520  697  540  398  581 -216  592  247  761  113  490  777  258  314  807  175 -182  274  363 -156  441  952  865  511 -213  838  553  851   38 -128   20\n",
            " -233  437 -128 -231 -123  951 -180  495  668  333 -194  111 -110  331  583  682  418  269  735  641  437  793 -146 -152  308  434  -92  971  966  668  635  249  234  314  -24   42  506  795  280  200  -35  428  329  821  701  179  914  194  249 -137\n",
            "  761  250  481  192  -18  845 -232 1003  749  771  821  493  342  837  257  387  821  722  351  985  261  441   36   74  817  989  534 -146   13  704  302 -244  482   17  920   35  731  109  538  144 -214  388  389  962  703  529  420   37  716  200\n",
            "\n",
            "Escalated time: 0.012100696563720703\n",
            "\n",
            "\n",
            "Sorting: selection\n",
            "---------------\n",
            "Test passed!\n",
            "---------------\n",
            "\n",
            "Escalated time: 0.0003960132598876953\n",
            "\n",
            "\n",
            "Sorting: insertion\n",
            "---------------\n",
            "Test passed!\n",
            "---------------\n",
            "\n",
            "Escalated time: 0.00029158592224121094\n",
            "\n",
            "\n",
            "Sorting: bubble\n",
            "---------------\n",
            "Test passed!\n",
            "---------------\n",
            "\n",
            "Escalated time: 0.0017843246459960938\n",
            "\n",
            "\n",
            "Sorting: shell\n",
            "---------------\n",
            "Test passed!\n",
            "---------------\n",
            "\n",
            "Escalated time: 0.04378938674926758\n",
            "\n",
            "\n",
            "Sorting: tournament\n",
            "---------------\n",
            "Test passed!\n",
            "---------------\n",
            "\n",
            "Escalated time: 4.5299530029296875e-05\n",
            "\n",
            "\n",
            "Sorting: tournament_heapq\n",
            "---------------\n",
            "Test passed!\n",
            "---------------\n",
            "\n",
            "Escalated time: 3.62396240234375e-05\n",
            "\n",
            "\n",
            "Sorting: quick\n",
            "---------------\n",
            "Test passed!\n",
            "---------------\n",
            "\n",
            "Escalated time: 6.246566772460938e-05\n",
            "\n",
            "\n",
            "Sorting: heap\n",
            "---------------\n",
            "Test passed!\n",
            "---------------\n",
            "\n",
            "\n",
            "Sorting times (milliseconds)\n",
            "selection  :  12.100696563720703\n",
            "insertion  :  0.3960132598876953\n",
            "bubble  :  0.29158592224121094\n",
            "shell  :  1.7843246459960938\n",
            "tournament  :  43.78938674926758\n",
            "tournament_heapq  :  0.045299530029296875\n",
            "quick  :  0.0362396240234375\n",
            "heap  :  0.062465667724609375\n",
            "\n",
            "\n",
            "-------------------\n",
            "Тест стандартной сортировки\n",
            "-------------------\n",
            "\n",
            "\n",
            "Sorting: standart python (Timsort)\n",
            "0.03647804260253906\n"
          ]
        }
      ]
    },
    {
      "cell_type": "code",
      "source": [
        "# Итог: Стандартная сортировка, реализованная в Python, как минимум не медленнее всех реализованных выше"
      ],
      "metadata": {
        "id": "XfqxLFMbxcBL"
      },
      "execution_count": null,
      "outputs": []
    }
  ]
}