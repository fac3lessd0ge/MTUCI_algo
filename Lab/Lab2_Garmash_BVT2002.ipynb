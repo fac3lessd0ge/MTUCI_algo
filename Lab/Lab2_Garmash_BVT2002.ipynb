{
  "cells": [
    {
      "cell_type": "markdown",
      "metadata": {
        "colab_type": "text",
        "id": "view-in-github"
      },
      "source": [
        "<a href=\"https://colab.research.google.com/github/fac3lessd0ge/MTUCI_algo/blob/main/Lab/Lab2_Garmash_BVT2002.ipynb\" target=\"_parent\"><img src=\"https://colab.research.google.com/assets/colab-badge.svg\" alt=\"Open In Colab\"/></a>"
      ]
    },
    {
      "cell_type": "markdown",
      "metadata": {
        "id": "0WHQuI2DvPlF"
      },
      "source": [
        "## Вспомогательные функции\n",
        "\n"
      ]
    },
    {
      "cell_type": "markdown",
      "metadata": {
        "id": "3mlm_X-HvXuB"
      },
      "source": [
        "### Генерация упорядоченного массива данных"
      ]
    },
    {
      "cell_type": "code",
      "execution_count": 34,
      "metadata": {
        "id": "FpHGEUwevO7b"
      },
      "outputs": [],
      "source": [
        "import numpy as np\n",
        "\n",
        "\n",
        "def create_test_array(length : int) :\n",
        "    \n",
        "    return np.sort(np.random.randint(10_000, size=length), kind='stable')\n",
        "\n",
        "def pick_element_and_index(arr):\n",
        "    elem = np.random.choice(arr)\n",
        "    index = np.where(arr == elem)\n",
        "\n",
        "    return (elem, index)"
      ]
    },
    {
      "cell_type": "code",
      "execution_count": 35,
      "metadata": {},
      "outputs": [
        {
          "name": "stdout",
          "output_type": "stream",
          "text": [
            "[1325 2373 2581 3204 3206 6905 7414 9850 9860 9974]\n",
            "9860 8\n"
          ]
        }
      ],
      "source": [
        "arr = create_test_array(10)\n",
        "elem, index = pick_element_and_index(arr)\n",
        "\n",
        "print(arr)\n",
        "print(elem, index[0][0])"
      ]
    },
    {
      "cell_type": "markdown",
      "metadata": {
        "id": "BLtqP2vqtocW"
      },
      "source": [
        "# Задание 1\n",
        "\n",
        "Реализовать методы поиска в соответствии с заданием. Организовать генерацию начального набора случайных данных. Для всех вариантов добавить реализацию добавления, поиска и удаления элементов. Оценить время работы каждого алгоритма поиска и сравнить его со временем работы стандартной функции поиска, используемой в выбранном языке программирования."
      ]
    },
    {
      "cell_type": "markdown",
      "metadata": {
        "id": "CnU3VIMatvfa"
      },
      "source": [
        "Бинарный поиск | Бинарное дерево | Фибоначчиев | Интерполяционный\n",
        "--- | --- | --- | --- |"
      ]
    },
    {
      "cell_type": "markdown",
      "metadata": {
        "id": "w03oa78tvFgb"
      },
      "source": [
        "## Бинарный поиск"
      ]
    },
    {
      "cell_type": "code",
      "execution_count": null,
      "metadata": {
        "id": "-Djx0Lsts9_9"
      },
      "outputs": [],
      "source": []
    },
    {
      "cell_type": "markdown",
      "metadata": {
        "id": "NNBIfNpiuhKg"
      },
      "source": [
        "# Задание 2\n",
        "\n",
        "Простое хеширование | Рехеширование с помощью псевдослуч. чисел | Метод цепочек\n",
        "--- | --- | --- |"
      ]
    },
    {
      "cell_type": "code",
      "execution_count": null,
      "metadata": {
        "id": "g9TqN1EXu721"
      },
      "outputs": [],
      "source": []
    },
    {
      "cell_type": "markdown",
      "metadata": {
        "id": "nO3aDEJhu8YR"
      },
      "source": [
        "# Задание №3\n",
        "\n",
        "Реализовать методы поиска в соответствии с заданием. Организовать генерацию начального набора случайных данных. Для всех вариантов добавить реализацию добавления, поиска и удаления элементов. Оценить время работы каждого алгоритма поиска и сравнить его со временем работы стандартной функции поиска, используемой в выбранном языке программирования."
      ]
    },
    {
      "cell_type": "code",
      "execution_count": null,
      "metadata": {
        "id": "uZOW1G1fvBbL"
      },
      "outputs": [],
      "source": []
    }
  ],
  "metadata": {
    "colab": {
      "authorship_tag": "ABX9TyO16LUxCeyjS2LcsvM+4M1M",
      "include_colab_link": true,
      "name": "Lab2_Garmash_BVT2002.ipynb",
      "provenance": []
    },
    "kernelspec": {
      "display_name": "Python 3",
      "name": "python3"
    },
    "language_info": {
      "codemirror_mode": {
        "name": "ipython",
        "version": 3
      },
      "file_extension": ".py",
      "mimetype": "text/x-python",
      "name": "python",
      "nbconvert_exporter": "python",
      "pygments_lexer": "ipython3",
      "version": "3.9.7"
    }
  },
  "nbformat": 4,
  "nbformat_minor": 0
}
