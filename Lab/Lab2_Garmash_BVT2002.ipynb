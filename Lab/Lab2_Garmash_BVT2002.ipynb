{
  "nbformat": 4,
  "nbformat_minor": 0,
  "metadata": {
    "colab": {
      "name": "Lab2_Garmash_BVT2002.ipynb",
      "provenance": [],
      "authorship_tag": "ABX9TyO16LUxCeyjS2LcsvM+4M1M",
      "include_colab_link": true
    },
    "kernelspec": {
      "name": "python3",
      "display_name": "Python 3"
    },
    "language_info": {
      "name": "python"
    }
  },
  "cells": [
    {
      "cell_type": "markdown",
      "metadata": {
        "id": "view-in-github",
        "colab_type": "text"
      },
      "source": [
        "<a href=\"https://colab.research.google.com/github/fac3lessd0ge/MTUCI_algo/blob/main/Lab/Lab2_Garmash_BVT2002.ipynb\" target=\"_parent\"><img src=\"https://colab.research.google.com/assets/colab-badge.svg\" alt=\"Open In Colab\"/></a>"
      ]
    },
    {
      "cell_type": "markdown",
      "source": [
        "##Вспомогательные функции\n",
        "\n"
      ],
      "metadata": {
        "id": "0WHQuI2DvPlF"
      }
    },
    {
      "cell_type": "markdown",
      "source": [
        "### Генерация упорядоченного массива данных"
      ],
      "metadata": {
        "id": "3mlm_X-HvXuB"
      }
    },
    {
      "cell_type": "code",
      "source": [
        ""
      ],
      "metadata": {
        "id": "FpHGEUwevO7b"
      },
      "execution_count": null,
      "outputs": []
    },
    {
      "cell_type": "markdown",
      "source": [
        "# Задание 1\n",
        "\n",
        "Реализовать методы поиска в соответствии с заданием. Организовать генерацию начального набора случайных данных. Для всех вариантов добавить реализацию добавления, поиска и удаления элементов. Оценить время работы каждого алгоритма поиска и сравнить его со временем работы стандартной функции поиска, используемой в выбранном языке программирования."
      ],
      "metadata": {
        "id": "BLtqP2vqtocW"
      }
    },
    {
      "cell_type": "markdown",
      "source": [
        "Бинарный поиск | Бинарное дерево | Фибоначчиев | Интерполяционный\n",
        "--- | --- | --- | --- |"
      ],
      "metadata": {
        "id": "CnU3VIMatvfa"
      }
    },
    {
      "cell_type": "markdown",
      "source": [
        "## Бинарный поиск"
      ],
      "metadata": {
        "id": "w03oa78tvFgb"
      }
    },
    {
      "cell_type": "code",
      "execution_count": null,
      "metadata": {
        "id": "-Djx0Lsts9_9"
      },
      "outputs": [],
      "source": [
        ""
      ]
    },
    {
      "cell_type": "markdown",
      "source": [
        "# Задание 2\n",
        "\n",
        "Простое хеширование | Рехеширование с помощью псевдослуч. чисел | Метод цепочек\n",
        "--- | --- | --- |"
      ],
      "metadata": {
        "id": "NNBIfNpiuhKg"
      }
    },
    {
      "cell_type": "code",
      "source": [
        ""
      ],
      "metadata": {
        "id": "g9TqN1EXu721"
      },
      "execution_count": null,
      "outputs": []
    },
    {
      "cell_type": "markdown",
      "source": [
        "# Задание №3\n",
        "\n",
        "Реализовать методы поиска в соответствии с заданием. Организовать генерацию начального набора случайных данных. Для всех вариантов добавить реализацию добавления, поиска и удаления элементов. Оценить время работы каждого алгоритма поиска и сравнить его со временем работы стандартной функции поиска, используемой в выбранном языке программирования."
      ],
      "metadata": {
        "id": "nO3aDEJhu8YR"
      }
    },
    {
      "cell_type": "code",
      "source": [
        ""
      ],
      "metadata": {
        "id": "uZOW1G1fvBbL"
      },
      "execution_count": null,
      "outputs": []
    }
  ]
}