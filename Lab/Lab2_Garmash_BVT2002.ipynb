{
  "cells": [
    {
      "cell_type": "markdown",
      "metadata": {
        "colab_type": "text",
        "id": "view-in-github"
      },
      "source": [
        "<a href=\"https://colab.research.google.com/github/fac3lessd0ge/MTUCI_algo/blob/main/Lab/Lab2_Garmash_BVT2002.ipynb\" target=\"_parent\"><img src=\"https://colab.research.google.com/assets/colab-badge.svg\" alt=\"Open In Colab\"/></a>"
      ]
    },
    {
      "cell_type": "markdown",
      "metadata": {
        "id": "0WHQuI2DvPlF"
      },
      "source": [
        "## Вспомогательные функции\n",
        "\n"
      ]
    },
    {
      "cell_type": "markdown",
      "metadata": {
        "id": "3mlm_X-HvXuB"
      },
      "source": [
        "### Генерация упорядоченного массива данных"
      ]
    },
    {
      "cell_type": "code",
      "execution_count": 2,
      "metadata": {
        "id": "FpHGEUwevO7b"
      },
      "outputs": [],
      "source": [
        "import numpy as np\n",
        "\n",
        "\n",
        "def create_test_array(length : int) :\n",
        "    \n",
        "    return np.sort(np.random.randint(10_000, size=length), kind='stable')\n",
        "\n",
        "def pick_element_and_index(arr):\n",
        "    elem = np.random.choice(arr)\n",
        "    index = np.where(arr == elem)\n",
        "\n",
        "    return (elem, index)"
      ]
    },
    {
      "cell_type": "code",
      "execution_count": 3,
      "metadata": {},
      "outputs": [
        {
          "name": "stdout",
          "output_type": "stream",
          "text": [
            "[ 247 3566 3960 4679 6415 6673 8496 8535 8737 9463]\n",
            "247 0\n"
          ]
        }
      ],
      "source": [
        "arr = create_test_array(10)\n",
        "elem, index = pick_element_and_index(arr)\n",
        "\n",
        "print(arr)\n",
        "print(elem, index[0][0])"
      ]
    },
    {
      "cell_type": "markdown",
      "metadata": {
        "id": "BLtqP2vqtocW"
      },
      "source": [
        "# Задание 1\n",
        "\n",
        "Реализовать методы поиска в соответствии с заданием. Организовать генерацию начального набора случайных данных. Для всех вариантов добавить реализацию добавления, поиска и удаления элементов. Оценить время работы каждого алгоритма поиска и сравнить его со временем работы стандартной функции поиска, используемой в выбранном языке программирования."
      ]
    },
    {
      "cell_type": "markdown",
      "metadata": {
        "id": "CnU3VIMatvfa"
      },
      "source": [
        "Бинарный поиск | Бинарное дерево | Фибоначчиев | Интерполяционный\n",
        "--- | --- | --- | --- |"
      ]
    },
    {
      "cell_type": "markdown",
      "metadata": {
        "id": "w03oa78tvFgb"
      },
      "source": [
        "## Бинарный поиск"
      ]
    },
    {
      "cell_type": "markdown",
      "metadata": {},
      "source": [
        "### Итеративный"
      ]
    },
    {
      "cell_type": "code",
      "execution_count": 28,
      "metadata": {
        "id": "-Djx0Lsts9_9"
      },
      "outputs": [],
      "source": [
        "def iterative_binary_search(array, element, *args):\n",
        "    start = 0\n",
        "    end = len(array) - 1\n",
        "    mid = 0\n",
        "\n",
        "\n",
        "\n",
        "    while (start < end):\n",
        "        mid = (start + end) // 2\n",
        "\n",
        "        if element == array[mid]:\n",
        "            return mid\n",
        "\n",
        "        elif element > array[mid]:\n",
        "            start = mid + 1\n",
        "            continue\n",
        "        else:\n",
        "            end = mid - 1\n",
        "            continue\n",
        "    return -1"
      ]
    },
    {
      "cell_type": "markdown",
      "metadata": {},
      "source": [
        "### Рекурсивный"
      ]
    },
    {
      "cell_type": "code",
      "execution_count": 1,
      "metadata": {},
      "outputs": [],
      "source": [
        "def recursive_binary_search(array, element, start, end):\n",
        "    if start > end:\n",
        "        return None\n",
        "    \n",
        "    mid = (start + end) // 2\n",
        "\n",
        "    if element == array[mid]:\n",
        "        return mid\n",
        "    elif element > array[mid]:\n",
        "        return recursive_binary_search(array, element, mid + 1, end)\n",
        "    else:\n",
        "        return recursive_binary_search(array, element, start, mid - 1)"
      ]
    },
    {
      "cell_type": "code",
      "execution_count": 29,
      "metadata": {},
      "outputs": [],
      "source": [
        "def test_search(fn, array_length):\n",
        "    arr = create_test_array(array_length)\n",
        "    elem, index = pick_element_and_index(arr)\n",
        "\n",
        "    print('Исходный список значений:', arr)\n",
        "    print('Искомый элемент:', str(elem) + '.', 'Его индекс:',  index[0][0])\n",
        "    print('Результат работы поиска: ', fn(arr, elem, 0, len(arr) - 1))"
      ]
    },
    {
      "cell_type": "code",
      "execution_count": 27,
      "metadata": {},
      "outputs": [
        {
          "name": "stdout",
          "output_type": "stream",
          "text": [
            "Исходный список значений: [ 254  308  645  772  931  995 1176 1585 2017 2131 2371 2590 2620 2801\n",
            " 3082 3260 3545 3976 4222 4406 4756 4892 5012 5060 5213 5565 6306 6547\n",
            " 6685 6796 7026 7246 7396 7707 7718 7973 8140 8270 8502 8808 8836 8892\n",
            " 9286 9491 9494 9591 9600 9740 9779 9849]\n",
            "Искомый элемент: 931. Его индекс: 4\n",
            "Результат работы поиска:  -1\n"
          ]
        }
      ],
      "source": [
        "test_search(iterative_binary_search, 50)"
      ]
    },
    {
      "cell_type": "markdown",
      "metadata": {
        "id": "NNBIfNpiuhKg"
      },
      "source": [
        "# Задание 2\n",
        "\n",
        "Простое хеширование | Рехеширование с помощью псевдослуч. чисел | Метод цепочек\n",
        "--- | --- | --- |"
      ]
    },
    {
      "cell_type": "code",
      "execution_count": null,
      "metadata": {
        "id": "g9TqN1EXu721"
      },
      "outputs": [],
      "source": []
    },
    {
      "cell_type": "markdown",
      "metadata": {
        "id": "nO3aDEJhu8YR"
      },
      "source": [
        "# Задание №3\n",
        "\n",
        "Реализовать методы поиска в соответствии с заданием. Организовать генерацию начального набора случайных данных. Для всех вариантов добавить реализацию добавления, поиска и удаления элементов. Оценить время работы каждого алгоритма поиска и сравнить его со временем работы стандартной функции поиска, используемой в выбранном языке программирования."
      ]
    },
    {
      "cell_type": "code",
      "execution_count": null,
      "metadata": {
        "id": "uZOW1G1fvBbL"
      },
      "outputs": [],
      "source": []
    }
  ],
  "metadata": {
    "colab": {
      "authorship_tag": "ABX9TyO16LUxCeyjS2LcsvM+4M1M",
      "include_colab_link": true,
      "name": "Lab2_Garmash_BVT2002.ipynb",
      "provenance": []
    },
    "kernelspec": {
      "display_name": "Python 3",
      "name": "python3"
    },
    "language_info": {
      "codemirror_mode": {
        "name": "ipython",
        "version": 3
      },
      "file_extension": ".py",
      "mimetype": "text/x-python",
      "name": "python",
      "nbconvert_exporter": "python",
      "pygments_lexer": "ipython3",
      "version": "3.9.7"
    }
  },
  "nbformat": 4,
  "nbformat_minor": 0
}
