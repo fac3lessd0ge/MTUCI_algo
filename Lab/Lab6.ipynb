{
 "cells": [
  {
   "cell_type": "markdown",
   "metadata": {
    "id": "0z3KlfKDn4_K"
   },
   "source": [
    "# Лабораторная работа 6. \n",
    "# Сетевые алгоритмы. Динамические алгоритмы поиска путей.\n"
   ]
  },
  {
   "cell_type": "markdown",
   "metadata": {
    "id": "96Gi_LEvmSVH"
   },
   "source": [
    "## Выполнил студент группы ФИО ГРУППА\n",
    "***"
   ]
  },
  {
   "cell_type": "markdown",
   "metadata": {
    "id": "GjdIp8aToKIe"
   },
   "source": [
    "### Задание\n",
    "\n",
    "1.  Реализовать алгоритм поиска кратчайшего расстояния между двумя вершинами ориентированного взвешенного графа в соответствии с вариантом. \n",
    "\n",
    "2.  Предусмотреть задание графа в виде матрицы смежности/инцидентности, читаемой из файла, либо графически с помощью пользовательского интерфейса. \n",
    "\n",
    "3.  Разработать графический интерфейс пользователя с визуализацией графа и отображением кратчайшего расстояния между задаваемыми пользователем вершинами.\n",
    "\n",
    "4. По результатам работы проанализировать временную сложность работы заданного алгоритма в зависимости от числа узлов и ребер графа.\n",
    "Данные представить в виде таблицы.\n",
    "\n"
   ]
  },
  {
   "cell_type": "markdown",
   "metadata": {
    "id": "LhhUXrAmotIA"
   },
   "source": [
    "### Алгоритмы:\n",
    "\n",
    "Алгоритм Флойда-Уоршелла| Алгоритм Дейкстры | Алгоритм Беллмана-Форда | Алгоритм Джонсона| Алгоритм Левита | Алгоритм Йена\n",
    "\n"
   ]
  },
  {
   "cell_type": "markdown",
   "metadata": {
    "id": "Wggfn8l7nG72"
   },
   "source": [
    "### Выполнение:"
   ]
  },
  {
   "cell_type": "code",
   "execution_count": 4,
   "metadata": {
    "id": "681a95mZnOSa"
   },
   "outputs": [],
   "source": [
    "import numpy as np\n",
    "import networkx as nx\n",
    "from math import inf"
   ]
  },
  {
   "cell_type": "code",
   "execution_count": 5,
   "metadata": {},
   "outputs": [],
   "source": [
    "def read_graph(path):\n",
    "    matrix = []\n",
    "    with open(path, 'r') as f:\n",
    "        for line in f:\n",
    "            numbers = []\n",
    "            for num in line.split():\n",
    "                numbers.append(int(num))\n",
    "            matrix.append(numbers)\n",
    "    return nx.from_numpy_matrix(np.matrix(matrix), create_using=nx.DiGraph)\n",
    "\n",
    "def get_matrix_with_inf(matrix):\n",
    "    new_matrix=[]\n",
    "    for i in range(len(matrix)):\n",
    "        new_matrix.append([])\n",
    "        for j in range(len(matrix)):\n",
    "            if matrix[i, j] == 0 and j != i:\n",
    "                new_matrix[i].append(inf)\n",
    "            else:\n",
    "                new_matrix[i].append(matrix[i, j])\n",
    "    return new_matrix\n",
    "\n",
    "def draw_graph(graph, path = None):\n",
    "    colors = None\n",
    "    print(graph.edges())\n",
    "    if path:\n",
    "        colors = []\n",
    "        for item in graph.edges():\n",
    "            try:\n",
    "                index1 = path.index(item[0])\n",
    "                index2 = path.index(item[1])\n",
    "                if index1 + 1 != index2 and index1 - 1 != index2:\n",
    "                    raise\n",
    "                colors.append('red')\n",
    "            except:\n",
    "                colors.append('black')\n",
    "    pos = nx.circular_layout(graph)\n",
    "    labels = nx.get_edge_attributes(graph, 'weight')\n",
    "    nx.draw_networkx_nodes(graph, node_color = 'green', node_size = 200, pos = pos)\n",
    "    nx.draw_networkx_edges(graph,edge_color = colors, pos = pos, arrowstyle = 'simple, tail_width = 0.05')\n",
    "    nx.draw_networkx_labels(graph, pos = pos)\n",
    "    nx.draw_networkx_edge_labels(graph, pos = pos, edge_labels = labels)"
   ]
  },
  {
   "cell_type": "code",
   "execution_count": 9,
   "metadata": {},
   "outputs": [
    {
     "name": "stdout",
     "output_type": "stream",
     "text": [
      "DiGraph with 7 nodes and 16 edges\n",
      "[(0, 1), (0, 3), (1, 0), (1, 2), (1, 5), (2, 1), (2, 4), (3, 0), (3, 4), (4, 2), (4, 3), (4, 5), (4, 6), (5, 1), (5, 4), (6, 4)]\n"
     ]
    },
    {
     "data": {
      "image/png": "[encoded data removed]",
      "text/plain": [
       "<Figure size 432x288 with 1 Axes>"
      ]
     },
     "metadata": {},
     "output_type": "display_data"
    }
   ],
   "source": [
    "print(read_graph('./test_graph1.txt'))\n",
    "draw_graph(read_graph('./test_graph1.txt'))"
   ]
  },
  {
   "cell_type": "code",
   "execution_count": 23,
   "metadata": {},
   "outputs": [],
   "source": [
    "def adjacency_matrix_with_inf(src = './test_graph1.txt'):\n",
    "\n",
    "    def validate_zero(num, i, j):\n",
    "        if num == 0 and i != j: return inf\n",
    "        return num\n",
    "\n",
    "\n",
    "    matrix = []\n",
    "    with open(src, 'r') as f:\n",
    "        for i, line in enumerate(f):\n",
    "            matrix.append([(lambda a: validate_zero(a, i, j))(int(a)) for j, a in enumerate(line.split())])\n",
    "    return matrix\n",
    "\n",
    "def adjacency_matrix(src = './test_graph1.txt'):\n",
    "    matrix = []\n",
    "    with open(src, 'r') as f:\n",
    "        for line in f:\n",
    "            matrix.append([int(a) for a in line.split()])\n",
    "    return matrix"
   ]
  },
  {
   "cell_type": "code",
   "execution_count": 18,
   "metadata": {},
   "outputs": [
    {
     "data": {
      "text/plain": [
       "8"
      ]
     },
     "execution_count": 18,
     "metadata": {},
     "output_type": "execute_result"
    }
   ],
   "source": [
    "(lambda a: a + 5)(3)"
   ]
  },
  {
   "cell_type": "code",
   "execution_count": 50,
   "metadata": {},
   "outputs": [
    {
     "data": {
      "text/plain": [
       "[[0, 2, 4, 3, inf, inf, inf, inf, inf],\n",
       " [2, 0, 6, inf, 10, inf, inf, inf, inf],\n",
       " [4, 6, 0, 5, 12, inf, inf, inf, inf],\n",
       " [3, inf, 5, 0, 7, 9, 13, inf, inf],\n",
       " [inf, 10, 12, 7, 0, 5, inf, 12, inf],\n",
       " [inf, inf, inf, 9, 5, 0, 4, 14, 16],\n",
       " [inf, inf, inf, 13, inf, 4, 0, inf, 10],\n",
       " [inf, inf, inf, inf, 12, 14, inf, 0, 2],\n",
       " [inf, inf, inf, inf, inf, 16, 10, 2, 0]]"
      ]
     },
     "execution_count": 50,
     "metadata": {},
     "output_type": "execute_result"
    }
   ],
   "source": [
    "adjacency_matrix_with_inf()"
   ]
  },
  {
   "cell_type": "markdown",
   "metadata": {},
   "source": [
    "# Алгоритм Дейкстры"
   ]
  },
  {
   "cell_type": "code",
   "execution_count": 44,
   "metadata": {},
   "outputs": [
    {
     "data": {
      "text/plain": [
       "[0, 2, 4, 3, 10, 12, 16, 22, 24]"
      ]
     },
     "execution_count": 44,
     "metadata": {},
     "output_type": "execute_result"
    }
   ],
   "source": [
    "def djkstra(graph_mat, start):\n",
    "\n",
    "    def get_links(start):\n",
    "        for i, weight in enumerate(graph_mat[start]):\n",
    "            if weight > 0:\n",
    "                yield i\n",
    "\n",
    "    def arg_min(res_mat, seen):\n",
    "        amin = -1\n",
    "        m = max(res_mat)\n",
    "        for i, t in enumerate(res_mat):\n",
    "            if t < m and i not in seen:\n",
    "                m = t\n",
    "                amin = i\n",
    "\n",
    "        return amin\n",
    "\n",
    "\n",
    "\n",
    "    N = len(graph_mat)\n",
    "    res = [inf for _ in range(N)]\n",
    "    res[0] = 0\n",
    "\n",
    "    temp_start = start\n",
    "\n",
    "    seen = [0]\n",
    "\n",
    "    while temp_start != -1:\n",
    "        for j in get_links(temp_start):\n",
    "            if j not in seen:\n",
    "                w = res[temp_start] + graph_mat[temp_start][j]\n",
    "                if w < res[j]:\n",
    "                    res[j] = w\n",
    "\n",
    "        temp_start = arg_min(res, seen)\n",
    "        if temp_start > 0:\n",
    "            seen.append(temp_start)\n",
    "\n",
    "    return res\n",
    "\n",
    "\n",
    "djkstra(adjacency_matrix(), 0)\n",
    "\n",
    "\n"
   ]
  },
  {
   "cell_type": "markdown",
   "metadata": {},
   "source": [
    "# Алгоритм Флойда"
   ]
  },
  {
   "cell_type": "code",
   "execution_count": 57,
   "metadata": {},
   "outputs": [
    {
     "name": "stdout",
     "output_type": "stream",
     "text": [
      "[[0, 2, 4, 3, 10, 12, 16, 22, 24], [2, 0, 6, 5, 10, 14, 18, 22, 24], [4, 6, 0, 5, 12, 14, 18, 24, 26], [3, 5, 5, 0, 7, 9, 13, 19, 21], [10, 10, 12, 7, 0, 5, 9, 12, 14], [12, 14, 14, 9, 5, 0, 4, 14, 14], [16, 18, 18, 13, 9, 4, 0, 12, 10], [22, 22, 24, 19, 12, 14, 12, 0, 2], [24, 24, 26, 21, 14, 14, 10, 2, 0]]\n"
     ]
    }
   ],
   "source": [
    "def floid(matrix):\n",
    "\n",
    "    N = len(matrix)\n",
    "    P = [[i for i in range(N)] for j in range(N)]\n",
    "\n",
    "    for k in range(N):\n",
    "        for i in range(N):\n",
    "            for j in range(N):\n",
    "                d = matrix[i][k] + matrix [k][j]\n",
    "                if d < matrix[i][j]:\n",
    "                    matrix[i][j] = d\n",
    "                    P[i][j] = P[i][k]\n",
    "\n",
    "    return matrix\n",
    "\n",
    "v = [[0, 2, inf, 3, 1, inf, inf, 10],\n",
    "     [2, 0, 4, inf, inf, inf, inf, inf],\n",
    "     [inf, 4, 0, inf, inf, inf, inf, 3],\n",
    "     [3, inf, inf, 0, inf, inf, inf, 8],\n",
    "     [1, inf, inf, inf, 0, 2, inf, inf],\n",
    "     [inf, inf, inf, inf, 2, 0, 3, inf],\n",
    "     [inf, inf, inf, inf, inf, 3, 0, 1],\n",
    "     [10, inf, 3, 8, inf, inf, 1, 0],\n",
    "]\n",
    "\n",
    "\n",
    "print(floid(adjacency_matrix_with_inf()))"
   ]
  },
  {
   "cell_type": "markdown",
   "metadata": {},
   "source": [
    "# Алгоритм Форда Беллмана"
   ]
  },
  {
   "cell_type": "code",
   "execution_count": null,
   "metadata": {},
   "outputs": [],
   "source": [
    "def bellman_ford(graph, start):\n",
    "\n",
    "    distance = [inf] * graph.count_verts\n",
    "    distance[start] = 0\n",
    "    pred = {}\n",
    "\n",
    "    for i in range(graph.count_verts - 1):\n",
    "        for from_v, to_v, weight in graph.graph_src:\n",
    "            if distance[from_v] != inf and distance[from_v] + weight < distance[to_v]: \n",
    "                distance[to_v] = distance[from_v] + weight\n",
    "                pred[to_v] = from_v\n",
    "\n",
    "    for from_v, to_v, weight in graph.graph_src:\n",
    "        if distance[from_v] != inf and distance[from_v] + weight < distance[to_v]:\n",
    "            print(\"Graph contains negative weight cycle\")\n",
    "    return distance, pred"
   ]
  },
  {
   "cell_type": "markdown",
   "metadata": {},
   "source": [
    "# Алгоритм Йена"
   ]
  },
  {
   "cell_type": "code",
   "execution_count": null,
   "metadata": {},
   "outputs": [],
   "source": [
    "def yena(graph, start, end, count):\n",
    "    paths = []\n",
    "    lengths = []\n",
    "    distances, pred = bellman_ford(graph, start)\n",
    "    path = get_path_B(pred, start, end)\n",
    "    paths.append(path)\n",
    "    lengths.append(distances[end])\n",
    "    matrix = graph.get_matrix()\n",
    "\n",
    "    mat = copy.deepcopy(matrix)\n",
    "    for i in range(count-1):\n",
    "        path = paths[-1]\n",
    "        candidates_paths = []\n",
    "        candidates_length = []\n",
    "        for j in range(len(path) - 1):\n",
    "            first = path[j]\n",
    "            second = path[j+1]\n",
    "            mat[first][second] = inf\n",
    "            graph.rewrite_matrix(mat)\n",
    "            distances, pred = bellman_ford(graph, start)\n",
    "            if (len(pred.keys()) == 0):\n",
    "                break\n",
    "            new_path = get_path_B(pred, start, end)\n",
    "            candidates_paths.append(new_path)\n",
    "            candidates_length.append(distances[end])\n",
    "        if (len(candidates_length) != 0):\n",
    "            index = candidates_length.index(min(candidates_length))\n",
    "            paths.append(candidates_paths[index])\n",
    "            lengths.append(candidates_length[index])\n",
    "    return paths, lengths"
   ]
  },
  {
   "cell_type": "markdown",
   "metadata": {},
   "source": []
  },
  {
   "cell_type": "markdown",
   "metadata": {},
   "source": [
    "# Алгоритм Левита"
   ]
  },
  {
   "cell_type": "code",
   "execution_count": null,
   "metadata": {},
   "outputs": [],
   "source": [
    "def levit(graph, start):\n",
    "    matrix = graph.get_matrix()\n",
    "    n = len(matrix)\n",
    "    table = [inf for i in range(n)]\n",
    "    table[start] = 0\n",
    "    for_paths = [start for i in range(n)]\n",
    "    m0 = set()\n",
    "    m1 = [start]\n",
    "    m2 = set(range(n))\n",
    "    m2.remove(start)\n",
    "    while len(m1):\n",
    "        u = None #рассматриваемая вершина\n",
    "        if len(m1):\n",
    "            u = m1.pop(0)\n",
    "        for i in range(n):\n",
    "            if matrix[u][i] == inf:\n",
    "                continue\n",
    "            if i in m2:\n",
    "                m2.remove(i)\n",
    "                m1.append(i)\n",
    "                w = table[u] + matrix[u][i]\n",
    "                if w < table[i]:\n",
    "                    table[i] = w\n",
    "                    for_paths[i] = u\n",
    "            elif i in m1:\n",
    "                w = table[u] + matrix[u][i]\n",
    "                if w < table[i]:\n",
    "                    table[i] = w\n",
    "                    for_paths[i] = u\n",
    "            elif i in m0 and table[i] > table[u] + matrix[u][i]:\n",
    "                m0.remove(i)\n",
    "                m1.append(i)\n",
    "                table[i] = table[u] + matrix[u][i]\n",
    "                for_paths[i] = u\n",
    "        m0.add(u)\n",
    "    return table, for_paths\n"
   ]
  }
 ],
 "metadata": {
  "colab": {
   "name": "Lab6.ipynb",
   "provenance": []
  },
  "interpreter": {
   "hash": "54eebe4bd519406a576e6049db654f74be4b37bdcd405e76f77af62a9c819326"
  },
  "kernelspec": {
   "display_name": "Python 3.10.2 64-bit",
   "language": "python",
   "name": "python3"
  },
  "language_info": {
   "codemirror_mode": {
    "name": "ipython",
    "version": 3
   },
   "file_extension": ".py",
   "mimetype": "text/x-python",
   "name": "python",
   "nbconvert_exporter": "python",
   "pygments_lexer": "ipython3",
   "version": "3.10.2"
  }
 },
 "nbformat": 4,
 "nbformat_minor": 1
}
