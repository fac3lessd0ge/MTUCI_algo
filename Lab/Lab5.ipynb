{
 "cells": [
  {
   "cell_type": "markdown",
   "metadata": {
    "id": "WPvB9TcMmKA6"
   },
   "source": [
    "# Лабораторная работа №5\n",
    "# Рекурсия. Фракталы."
   ]
  },
  {
   "cell_type": "markdown",
   "metadata": {
    "id": "96Gi_LEvmSVH"
   },
   "source": [
    "## Выполнил студент группы ФИО ГРУППА\n",
    "***"
   ]
  },
  {
   "cell_type": "markdown",
   "metadata": {
    "id": "4clYOyb0mbEv"
   },
   "source": [
    "### Задание:\n",
    "Реализовать генерацию заданного типа фрактала с применением рекурсивных функций.\n",
    "\n",
    "\n",
    "Добавить возможность задания глубины фрактала. \n",
    "\n",
    "\n",
    "Оценить глубину рекурсии. \n",
    "\n",
    "\n",
    "Построить таблицу зависимости времени построения от глубины фрактала."
   ]
  },
  {
   "cell_type": "markdown",
   "metadata": {
    "id": "wDXHbUmMmhRL"
   },
   "source": [
    "### Список фракталов:\n",
    "\n",
    "Кривая Коха\n",
    "| Кривая Гильберта\n",
    "| Кривая Серпинского\n",
    "| Салфетка Серпинского\n",
    "| Ковер Серпинского\n",
    "| Дерево Пифагора "
   ]
  },
  {
   "cell_type": "markdown",
   "metadata": {
    "id": "Wggfn8l7nG72"
   },
   "source": [
    "### Выполнение:"
   ]
  },
  {
   "cell_type": "code",
   "execution_count": 2,
   "metadata": {},
   "outputs": [],
   "source": [
    "import turtle"
   ]
  },
  {
   "cell_type": "code",
   "execution_count": 3,
   "metadata": {},
   "outputs": [],
   "source": [
    "def main(step, level, function):\n",
    "    turtle.tracer(0)\n",
    "    turtle.penup()\n",
    "    turtle.setpos(-100,-150)\n",
    "    turtle.pendown()\n",
    "    turtle.hideturtle()\n",
    "    function(step, level)"
   ]
  },
  {
   "cell_type": "code",
   "execution_count": 4,
   "metadata": {},
   "outputs": [],
   "source": [
    "def koch_line(step, n):\n",
    "    if n == 0:\n",
    "        turtle.fd(step)\n",
    "        return\n",
    "    else:\n",
    "        for angle in [0, 60, -120, 60]:\n",
    "            turtle.left(angle)\n",
    "            koch_line(step / 3, n - 1)\n",
    "\n"
   ]
  },
  {
   "cell_type": "code",
   "execution_count": 5,
   "metadata": {},
   "outputs": [],
   "source": [
    "main(5, 1, koch_line)"
   ]
  },
  {
   "cell_type": "code",
   "execution_count": 12,
   "metadata": {
    "id": "681a95mZnOSa"
   },
   "outputs": [],
   "source": [
    "\n",
    "axiom = \"FX\"\n",
    "axmTemp = \"\"\n",
    "\n",
    "itr = 15  # итераций \n",
    "dl  = 3   # длина черты\n",
    "\n",
    "turtle.hideturtle()\n",
    "turtle.tracer(0)\n",
    "\n",
    "\n",
    "# код переделан,\n",
    "# если символ переходит в новую строку без изменений,\n",
    "# то его не обязательно вносить в правила\n",
    "translate={\"X\":\"X+YF+\", \"Y\":\"-FX-Y\"}\n",
    "\n",
    "for k in range(itr):\n",
    "    for ch in axiom:\n",
    "        if ch in translate:\n",
    "            axmTemp += translate[ch]\n",
    "        else:\n",
    "            axmTemp += ch\n",
    "    axiom = axmTemp\n",
    "    axmTemp = \"\"\n",
    "    \n",
    "for ch in axiom:\n",
    "    if   ch == \"+\":\n",
    "        turtle.right(90)\n",
    "    elif ch == \"-\":\n",
    "        turtle.left(90)\n",
    "    elif ch == \"F\":\n",
    "        turtle.forward(dl)\n",
    "turtle.update()\n",
    "turtle.mainloop()\n",
    "\n"
   ]
  },
  {
   "cell_type": "markdown",
   "metadata": {
    "id": "diOb-K7LnO5a"
   },
   "source": [
    "### Вывод"
   ]
  }
 ],
 "metadata": {
  "colab": {
   "collapsed_sections": [],
   "name": "Lab5.ipynb",
   "provenance": []
  },
  "kernelspec": {
   "display_name": "Python 3 (ipykernel)",
   "language": "python",
   "name": "python3"
  },
  "language_info": {
   "codemirror_mode": {
    "name": "ipython",
    "version": 3
   },
   "file_extension": ".py",
   "mimetype": "text/x-python",
   "name": "python",
   "nbconvert_exporter": "python",
   "pygments_lexer": "ipython3",
   "version": "3.9.7"
  }
 },
 "nbformat": 4,
 "nbformat_minor": 1
}
