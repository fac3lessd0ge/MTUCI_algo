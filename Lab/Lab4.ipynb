{
 "cells": [
  {
   "cell_type": "markdown",
   "id": "fifteen-sailing",
   "metadata": {},
   "source": [
    "# Лабораторная работа №4\n",
    "## Выполнил студент группы БВТ2002 Гармаш Арсений Евгеньевич"
   ]
  },
  {
   "cell_type": "markdown",
   "id": "arctic-stocks",
   "metadata": {},
   "source": [
    "Реализовать следующие структуры данных:\n",
    "  \n",
    "● <b> Стек (stack): </b>  \n",
    "Операции для стека: \n",
    "<i> инициализация, проверка на пустоту, добавление нового элемента в начало, извлечение элемента из начала;  </i>  \n",
    "  \n",
    "● <b> Дек (двусторонняя очередь, deque):  </b>  \n",
    "Операции для дека: \n",
    "<i> инициализация, проверка на пустоту, добавление нового элемента в начало, добавление нового элемента в конец, извлечение элемента из начала, извлечение элемента из конца. </i>  \n",
    "  \n",
    "<i> Разработать программу обработки данных, содержащихся в заранее подготовленном txt-файле, в соответствии с заданиями, применив указанную в задании структуру данных. Результат работы программы вывести на экран и сохранить в отдельном txt-файле. </i>"
   ]
  },
  {
   "cell_type": "markdown",
   "id": "4dab6cfe",
   "metadata": {},
   "source": [
    "### Стек"
   ]
  },
  {
   "cell_type": "code",
   "execution_count": 2,
   "id": "cdc83fd6",
   "metadata": {},
   "outputs": [
    {
     "name": "stdout",
     "output_type": "stream",
     "text": [
      "[2, 3, 4, 5, 7]\n"
     ]
    }
   ],
   "source": [
    "class Stack:\n",
    "    def __init__(self):\n",
    "        self.storage = []\n",
    "\n",
    "    def is_empty(self):\n",
    "        return self.storage == []\n",
    "\n",
    "    def add(self, value):\n",
    "        self.storage.append(value)\n",
    "    \n",
    "    def pop(self):\n",
    "        return self.storage.pop()\n",
    "\n",
    "    def remove(self, index):\n",
    "        if self.size:\n",
    "            self.storage.remove(index)\n",
    "\n",
    "    def remove_from_beginning(self):\n",
    "        self.storage.pop(0)\n",
    "\n",
    "    def insert_to_beginning(self, value):\n",
    "        self.storage.insert(0, value)\n",
    "\n",
    "    def __str__(self):\n",
    "        return str(self.storage)\n",
    "\n",
    "\n",
    "test = Stack()\n",
    "\n",
    "test.add(1)\n",
    "test.add(2)\n",
    "test.add(3)\n",
    "test.add(4)\n",
    "test.add(5)\n",
    "test.add(7)\n",
    "test.remove_from_beginning()\n",
    "\n",
    "\n",
    "print(test)"
   ]
  },
  {
   "cell_type": "markdown",
   "id": "7f39be9c",
   "metadata": {},
   "source": [
    "### Дек"
   ]
  },
  {
   "cell_type": "code",
   "execution_count": 14,
   "id": "72b0f915",
   "metadata": {},
   "outputs": [],
   "source": [
    "class Deque:\n",
    "    def __init__(self):\n",
    "        self.items = []\n",
    "\n",
    "    def isEmpty(self):\n",
    "        return self.items == []\n",
    "\n",
    "    def addRear(self, item):\n",
    "        self.items.append(item)\n",
    "\n",
    "    def addFront(self, item):\n",
    "        self.items.insert(0, item)\n",
    "\n",
    "    def removeFront(self):\n",
    "        return self.items.pop(0)\n",
    "\n",
    "    def removeRear(self):\n",
    "        return self.items.pop()\n",
    "\n",
    "    def size(self):\n",
    "        return len(self.items)\n",
    "\n",
    "    def getFront(self):\n",
    "        return self.items[0]\n",
    "\n",
    "    def getRear(self):\n",
    "        return self.items[self.size() - 1]\n",
    "\n",
    "    def __str__(self):\n",
    "        return str(self.items)"
   ]
  },
  {
   "cell_type": "markdown",
   "id": "5d7edb08",
   "metadata": {
    "scrolled": true
   },
   "source": [
    "### Задание №1\n",
    "Отсортировать строки файла, содержащие названия книг, в алфавитном порядке с использованием двух деков."
   ]
  },
  {
   "cell_type": "code",
   "execution_count": 32,
   "id": "17702ade",
   "metadata": {},
   "outputs": [
    {
     "data": {
      "text/plain": [
       "['Котлован',\n",
       " 'Старик и море',\n",
       " 'Красное и чёрное',\n",
       " 'Преступление и наказание',\n",
       " 'Прощай, оружие!',\n",
       " 'Глазами клоуна',\n",
       " 'Погребённый великан',\n",
       " 'Толстая тетрадь',\n",
       " 'Бледный огонь',\n",
       " 'Географ глобус пропил',\n",
       " 'Приглашение на казнь',\n",
       " 'Убить пересмешника',\n",
       " 'Заводной апельсин',\n",
       " 'Колыбель для кошки',\n",
       " 'Под солнцем сатаны']"
      ]
     },
     "execution_count": 32,
     "metadata": {},
     "output_type": "execute_result"
    }
   ],
   "source": [
    "\n",
    "def open_file_and_read_lines(file_path):\n",
    "    with open(file_path) as test:\n",
    "        lines = test.readlines()\n",
    "\n",
    "    for i in range(len(lines)):\n",
    "        lines[i] = lines[i].strip()\n",
    "    \n",
    "    test.close()\n",
    "    return lines\n",
    "\n",
    "test = open_file_and_read_lines('./inputs4lab/task1.txt')\n",
    "\n",
    "\n",
    "test"
   ]
  },
  {
   "cell_type": "code",
   "execution_count": 24,
   "id": "b67a9c4e",
   "metadata": {},
   "outputs": [
    {
     "data": {
      "text/plain": [
       "['Бледный огонь',\n",
       " 'Географ глобус пропил',\n",
       " 'Глазами клоуна',\n",
       " 'Заводной апельсин',\n",
       " 'Колыбель для кошки',\n",
       " 'Котлован',\n",
       " 'Красное и чёрное',\n",
       " 'Погребённый великан',\n",
       " 'Под солнцем сатаны',\n",
       " 'Преступление и наказание',\n",
       " 'Приглашение на казнь',\n",
       " 'Прощай, оружие!',\n",
       " 'Старик и море',\n",
       " 'Толстая тетрадь',\n",
       " 'Убить пересмешника']"
      ]
     },
     "execution_count": 24,
     "metadata": {},
     "output_type": "execute_result"
    }
   ],
   "source": [
    "def sort_step(array):\n",
    "    \"\"\"\n",
    "        Проще всего - просто показать, как это творение искусства работает:\n",
    "\n",
    "        input = 31541032561 (мне лень красиво расписывать, но тут ввод - список цифр)\n",
    "\n",
    "        Берём 3 -> 13 -> 135 -> 4135 -> 14135 -> 014135 -> 3014135 и так далее \n",
    "\n",
    "        output = 12301413556 \n",
    "\n",
    "        Отсортировано? - Нет. Еффективно? - Нет. Но если выполнить функцию несколько раз,\n",
    "        список станет более отсортированным. А количество затраченных операций сравнения и перезаписи - ещё \n",
    "        более ужасающим.\n",
    "\n",
    "    \"\"\"\n",
    "\n",
    "\n",
    "\n",
    "\n",
    "    deq1 = Deque()\n",
    "    deq1.items = array.copy()\n",
    "    deq2 = Deque()\n",
    "\n",
    "    for i in range(len(deq1.items)):\n",
    "        if (deq2.isEmpty()):\n",
    "            deq2.addRear(deq1.removeFront())\n",
    "            continue\n",
    "\n",
    "        for j in range(min(len(deq1.getFront()), len(deq2.getRear()))):\n",
    "            if deq1.getFront()[j] == deq2.getRear()[j]:\n",
    "                continue\n",
    "            elif deq1.getFront()[j] > deq2.getRear()[j]:\n",
    "                deq2.addRear(deq1.removeFront())\n",
    "                break\n",
    "            else:\n",
    "                deq2.addFront(deq1.removeFront())\n",
    "                break\n",
    "    deq1.items = deq2.items.copy()\n",
    "    deq2.items = []    \n",
    "    \n",
    "    return deq1.items\n",
    "\n",
    "\n",
    "def check_if_sorted(array):\n",
    "    return array == sorted(array)\n",
    "\n",
    "def sort(array):\n",
    "    result = array.copy()\n",
    "\n",
    "    while not check_if_sorted(result):\n",
    "        result = sort_step(result)\n",
    "\n",
    "    return result\n",
    "\n",
    "sort(open_file_and_read_lines('./inputs4lab/task1.txt'))\n"
   ]
  },
  {
   "cell_type": "markdown",
   "id": "49fbd2a0",
   "metadata": {},
   "source": [
    "### Задание №2\n",
    "Дек содержит последовательность символов для шифровки сообщений. Дан текстовый файл, содержащий зашифрованное сообщение. Пользуясь деком, расшифровать текст. \n",
    "Известно, что при шифровке каждый символ сообщения заменялся следующим за ним в деке по часовой стрелке через один."
   ]
  },
  {
   "cell_type": "code",
   "execution_count": null,
   "id": "81cab7a8",
   "metadata": {},
   "outputs": [],
   "source": []
  },
  {
   "cell_type": "markdown",
   "id": "c0894f47",
   "metadata": {},
   "source": [
    "### Задание №3\n",
    "Даны три стержня и n дисков различного размера. Диски можно надевать на стержни, образуя из них башни. Перенести n дисков со стержня А на стержень С, сохранив их первоначальный порядок. При переносе дисков необходимо соблюдать следующие правила:\n",
    "- на каждом шаге со стержня на стержень переносить только один диск;\n",
    "- диск нельзя помещать на диск меньшего размера;\n",
    "- для промежуточного хранения можно использовать стержень В.\n",
    "Реализовать алгоритм, используя три стека вместо стержней А, В, С. Информация о дисках хранится в исходном файле."
   ]
  },
  {
   "cell_type": "code",
   "execution_count": null,
   "id": "9e91a9d4",
   "metadata": {},
   "outputs": [],
   "source": []
  },
  {
   "cell_type": "markdown",
   "id": "e5b0be17",
   "metadata": {},
   "source": [
    "### Задание №4\n",
    "Дан текстовый файл с программой на алгоритмическом языке. За один просмотр файла проверить баланс круглых скобок в тексте, используя стек."
   ]
  },
  {
   "cell_type": "code",
   "execution_count": null,
   "id": "5b1df60a",
   "metadata": {},
   "outputs": [],
   "source": []
  },
  {
   "cell_type": "markdown",
   "id": "c44cdd6b",
   "metadata": {},
   "source": [
    "### Задание №5\n",
    "Дан текстовый файл с программой на алгоритмическом языке. За один просмотр файла проверить баланс квадратных скобок в тексте, используя дек."
   ]
  },
  {
   "cell_type": "code",
   "execution_count": null,
   "id": "36b8f400",
   "metadata": {},
   "outputs": [],
   "source": []
  },
  {
   "cell_type": "markdown",
   "id": "59d13dc7",
   "metadata": {},
   "source": [
    "### Задание №6\n",
    "Дан файл из символов. Используя стек, за один просмотр файла напечатать сначала все цифры, затем все буквы, и, наконец, все остальные символы, сохраняя исходный порядок в каждой группе символов."
   ]
  },
  {
   "cell_type": "code",
   "execution_count": null,
   "id": "297e36c2",
   "metadata": {},
   "outputs": [],
   "source": []
  },
  {
   "cell_type": "markdown",
   "id": "973f68bd",
   "metadata": {},
   "source": [
    "### Задание №7\n",
    "Дан файл из целых чисел. Используя дек, за один просмотр файла напечатать сначала все отрицательные числа, затем все положительные числа, сохраняя исходный порядок в каждой группе."
   ]
  },
  {
   "cell_type": "code",
   "execution_count": null,
   "id": "c56fad66",
   "metadata": {},
   "outputs": [],
   "source": []
  },
  {
   "cell_type": "markdown",
   "id": "b9228191",
   "metadata": {},
   "source": [
    "### Задание №8\n",
    "Дан текстовый файл. Используя стек, сформировать новый текстовый файл, содержащий строки исходного файла, записанные в обратном порядке: первая строка становится последней, вторая – предпоследней и т.д."
   ]
  },
  {
   "cell_type": "code",
   "execution_count": null,
   "id": "981fbdfe",
   "metadata": {},
   "outputs": [],
   "source": []
  },
  {
   "cell_type": "markdown",
   "id": "rental-jerusalem",
   "metadata": {},
   "source": [
    "### Вывод\n"
   ]
  },
  {
   "cell_type": "markdown",
   "id": "0c2b8899",
   "metadata": {},
   "source": []
  }
 ],
 "metadata": {
  "kernelspec": {
   "display_name": "Python 3 (ipykernel)",
   "language": "python",
   "name": "python3"
  },
  "language_info": {
   "codemirror_mode": {
    "name": "ipython",
    "version": 3
   },
   "file_extension": ".py",
   "mimetype": "text/x-python",
   "name": "python",
   "nbconvert_exporter": "python",
   "pygments_lexer": "ipython3",
   "version": "3.10.2"
  }
 },
 "nbformat": 4,
 "nbformat_minor": 5
}
