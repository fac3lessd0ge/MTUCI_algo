{
 "cells": [
  {
   "cell_type": "markdown",
   "id": "fifteen-sailing",
   "metadata": {},
   "source": [
    "# Лабораторная работа №4\n",
    "## Выполнил студент группы БВТ2002 Гармаш Арсений Евгеньевич"
   ]
  },
  {
   "cell_type": "markdown",
   "id": "arctic-stocks",
   "metadata": {},
   "source": [
    "Реализовать следующие структуры данных:\n",
    "  \n",
    "● <b> Стек (stack): </b>  \n",
    "Операции для стека: \n",
    "<i> инициализация, проверка на пустоту, добавление нового элемента в начало, извлечение элемента из начала;  </i>  \n",
    "  \n",
    "● <b> Дек (двусторонняя очередь, deque):  </b>  \n",
    "Операции для дека: \n",
    "<i> инициализация, проверка на пустоту, добавление нового элемента в начало, добавление нового элемента в конец, извлечение элемента из начала, извлечение элемента из конца. </i>  \n",
    "  \n",
    "<i> Разработать программу обработки данных, содержащихся в заранее подготовленном txt-файле, в соответствии с заданиями, применив указанную в задании структуру данных. Результат работы программы вывести на экран и сохранить в отдельном txt-файле. </i>"
   ]
  },
  {
   "cell_type": "markdown",
   "id": "4dab6cfe",
   "metadata": {},
   "source": [
    "### Стек"
   ]
  },
  {
   "cell_type": "code",
   "execution_count": 1,
   "id": "cdc83fd6",
   "metadata": {},
   "outputs": [
    {
     "name": "stdout",
     "output_type": "stream",
     "text": [
      "[2, 3, 4, 5, 7]\n"
     ]
    }
   ],
   "source": [
    "class Stack:\n",
    "    def __init__(self):\n",
    "        self.storage = []\n",
    "\n",
    "    def is_empty(self):\n",
    "        return self.storage == []\n",
    "\n",
    "    def add(self, value):\n",
    "        self.storage.append(value)\n",
    "    \n",
    "    def pop(self):\n",
    "        return self.storage.pop()\n",
    "\n",
    "    def remove(self, index):\n",
    "        if self.size:\n",
    "            self.storage.remove(index)\n",
    "\n",
    "    def remove_from_beginning(self):\n",
    "        self.storage.pop(0)\n",
    "\n",
    "    def insert_to_beginning(self, value):\n",
    "        self.storage.insert(0, value)\n",
    "\n",
    "    def __str__(self):\n",
    "        return str(self.storage)\n",
    "\n",
    "\n",
    "test = Stack()\n",
    "\n",
    "test.add(1)\n",
    "test.add(2)\n",
    "test.add(3)\n",
    "test.add(4)\n",
    "test.add(5)\n",
    "test.add(7)\n",
    "test.remove_from_beginning()\n",
    "\n",
    "\n",
    "print(test)"
   ]
  },
  {
   "cell_type": "markdown",
   "id": "7f39be9c",
   "metadata": {},
   "source": [
    "### Дек"
   ]
  },
  {
   "cell_type": "code",
   "execution_count": 19,
   "id": "72b0f915",
   "metadata": {},
   "outputs": [],
   "source": [
    "class Deque:\n",
    "    def __init__(self):\n",
    "        self.items = []\n",
    "\n",
    "    def isEmpty(self):\n",
    "        return self.items == []\n",
    "\n",
    "    def addRear(self, item):\n",
    "        self.items.append(item)\n",
    "\n",
    "    def addFront(self, item):\n",
    "        self.items.insert(0, item)\n",
    "\n",
    "    def removeFront(self):\n",
    "        return self.items.pop(0)\n",
    "\n",
    "    def removeRear(self):\n",
    "        return self.items.pop()\n",
    "\n",
    "    def size(self):\n",
    "        return len(self.items)\n",
    "\n",
    "    def getFront(self):\n",
    "        return self.items[0]\n",
    "\n",
    "    def getRear(self):\n",
    "        return self.items[self.size() - 1]\n",
    "\n",
    "    def __str__(self):\n",
    "        return str(self.items)"
   ]
  },
  {
   "cell_type": "markdown",
   "id": "5d7edb08",
   "metadata": {
    "scrolled": true
   },
   "source": [
    "### Задание №1\n",
    "Отсортировать строки файла, содержащие названия книг, в алфавитном порядке с использованием двух деков."
   ]
  },
  {
   "cell_type": "code",
   "execution_count": 12,
   "id": "17702ade",
   "metadata": {},
   "outputs": [
    {
     "data": {
      "text/plain": [
       "['Котлован',\n",
       " 'Старик и море',\n",
       " 'Красное и чёрное',\n",
       " 'Преступление и наказание',\n",
       " 'Прощай, оружие!',\n",
       " 'Глазами клоуна',\n",
       " 'Погребённый великан',\n",
       " 'Толстая тетрадь',\n",
       " 'Бледный огонь',\n",
       " 'Географ глобус пропил',\n",
       " 'Приглашение на казнь',\n",
       " 'Убить пересмешника',\n",
       " 'Заводной апельсин',\n",
       " 'Колыбель для кошки',\n",
       " 'Под солнцем сатаны']"
      ]
     },
     "execution_count": 12,
     "metadata": {},
     "output_type": "execute_result"
    }
   ],
   "source": [
    "\n",
    "def open_file_and_read_lines(file_path):\n",
    "    with open(file_path) as test:\n",
    "        lines = test.readlines()\n",
    "\n",
    "    for i in range(len(lines)):\n",
    "        lines[i] = lines[i].strip()\n",
    "    \n",
    "    test.close()\n",
    "    return lines\n",
    "\n",
    "test = open_file_and_read_lines('./inputs4lab/task1.txt')\n",
    "\n",
    "\n",
    "test"
   ]
  },
  {
   "cell_type": "code",
   "execution_count": 24,
   "id": "b67a9c4e",
   "metadata": {},
   "outputs": [
    {
     "data": {
      "text/plain": [
       "['Бледный огонь',\n",
       " 'Географ глобус пропил',\n",
       " 'Глазами клоуна',\n",
       " 'Заводной апельсин',\n",
       " 'Колыбель для кошки',\n",
       " 'Котлован',\n",
       " 'Красное и чёрное',\n",
       " 'Погребённый великан',\n",
       " 'Под солнцем сатаны',\n",
       " 'Преступление и наказание',\n",
       " 'Приглашение на казнь',\n",
       " 'Прощай, оружие!',\n",
       " 'Старик и море',\n",
       " 'Толстая тетрадь',\n",
       " 'Убить пересмешника']"
      ]
     },
     "execution_count": 24,
     "metadata": {},
     "output_type": "execute_result"
    }
   ],
   "source": [
    "def sort_step(array):\n",
    "    \"\"\"\n",
    "        Проще всего - просто показать, как это творение искусства работает:\n",
    "\n",
    "        input = 31541032561 (мне лень красиво расписывать, но тут ввод - список цифр)\n",
    "\n",
    "        Берём 3 -> 13 -> 135 -> 4135 -> 14135 -> 014135 -> 3014135 и так далее \n",
    "\n",
    "        output = 12301413556 \n",
    "\n",
    "        Отсортировано? - Нет. Еффективно? - Нет. Но если выполнить функцию несколько раз,\n",
    "        список станет более отсортированным. А количество затраченных операций сравнения и перезаписи - ещё \n",
    "        более ужасающим.\n",
    "    \"\"\"\n",
    "\n",
    "\n",
    "\n",
    "\n",
    "    deq1 = Deque()\n",
    "    deq1.items = array.copy()\n",
    "    deq2 = Deque()\n",
    "\n",
    "    for i in range(len(deq1.items)):\n",
    "        if (deq2.isEmpty()):\n",
    "            deq2.addRear(deq1.removeFront())\n",
    "            continue\n",
    "\n",
    "        for j in range(min(len(deq1.getFront()), len(deq2.getRear()))):\n",
    "            if deq1.getFront()[j] == deq2.getRear()[j]:\n",
    "                continue\n",
    "            elif deq1.getFront()[j] > deq2.getRear()[j]:\n",
    "                deq2.addRear(deq1.removeFront())\n",
    "                break\n",
    "            else:\n",
    "                deq2.addFront(deq1.removeFront())\n",
    "                break\n",
    "    deq1.items = deq2.items.copy()\n",
    "    deq2.items = []    \n",
    "    \n",
    "    return deq1.items\n",
    "\n",
    "\n",
    "def check_if_sorted(array):\n",
    "    return array == sorted(array)\n",
    "\n",
    "def sort(array):\n",
    "    result = array.copy()\n",
    "\n",
    "    while not check_if_sorted(result):\n",
    "        result = sort_step(result)\n",
    "\n",
    "    return result\n",
    "\n",
    "sort(open_file_and_read_lines('./inputs4lab/task1.txt'))\n"
   ]
  },
  {
   "cell_type": "markdown",
   "id": "49fbd2a0",
   "metadata": {},
   "source": [
    "### Задание №2\n",
    "Дек содержит последовательность символов для шифровки сообщений. Дан текстовый файл, содержащий зашифрованное сообщение. Пользуясь деком, расшифровать текст. \n",
    "Известно, что при шифровке каждый символ сообщения заменялся следующим за ним в деке по часовой стрелке через один."
   ]
  },
  {
   "cell_type": "code",
   "execution_count": 42,
   "id": "81cab7a8",
   "metadata": {},
   "outputs": [
    {
     "name": "stdout",
     "output_type": "stream",
     "text": [
      "tesakdidnotcommitsuicide\n"
     ]
    }
   ],
   "source": [
    "def de_cipher(shif_str = 'ffffffffffffffffffffffff'):\n",
    "    deq=Deque()\n",
    "    shif = 'rferfdrfirfcrfirfurfsrftrfirfmrfmrforfcrftrforfnrfdrfirfdrfkrfarfsrferftrft'\n",
    "    for i in shif:\n",
    "        deq.addRear(i)\n",
    "    result = ''\n",
    "    \n",
    "    for i in shif_str:\n",
    "        m=''\n",
    "        s=''\n",
    "        while m != i:\n",
    "            m=deq.removeRear()\n",
    "            deq.addFront(m)\n",
    "        \n",
    "        deq.addFront(deq.removeRear())\n",
    "        s = deq.removeRear()\n",
    "        result+=s\n",
    "        deq.addFront(s)\n",
    "    print(result)\n",
    "\n",
    "de_cipher()\n"
   ]
  },
  {
   "cell_type": "markdown",
   "id": "c0894f47",
   "metadata": {},
   "source": [
    "### Задание №3\n",
    "Даны три стержня и n дисков различного размера. Диски можно надевать на стержни, образуя из них башни. Перенести n дисков со стержня А на стержень С, сохранив их первоначальный порядок. При переносе дисков необходимо соблюдать следующие правила:\n",
    "- на каждом шаге со стержня на стержень переносить только один диск;\n",
    "- диск нельзя помещать на диск меньшего размера;\n",
    "- для промежуточного хранения можно использовать стержень В.\n",
    "Реализовать алгоритм, используя три стека вместо стержней А, В, С. Информация о дисках хранится в исходном файле."
   ]
  },
  {
   "cell_type": "code",
   "execution_count": 77,
   "id": "9e91a9d4",
   "metadata": {},
   "outputs": [
    {
     "name": "stdout",
     "output_type": "stream",
     "text": [
      "[] || [] || [1, 2, 3, 4, 5]\n"
     ]
    }
   ],
   "source": [
    "def hanoy_tower(n , source, destination, auxiliary):\n",
    "    if n==1:\n",
    "        auxiliary.add(source.pop())\n",
    "        return\n",
    "    hanoy_tower(n-1, source, auxiliary, destination)\n",
    "    auxiliary.add(source.pop())\n",
    "    hanoy_tower(n-1, destination, source, auxiliary)\n",
    "         \n",
    "         \n",
    "n = 5\n",
    "one = Stack()\n",
    "two = Stack()\n",
    "three = Stack()\n",
    "\n",
    "one.add(1)\n",
    "one.add(2)\n",
    "one.add(3)\n",
    "one.add(4)\n",
    "one.add(5)\n",
    "hanoy_tower(n,one, two, three)\n",
    "\n",
    "print(one.storage, two.storage, three.storage, sep=' || ')\n",
    "        \n",
    "    "
   ]
  },
  {
   "cell_type": "markdown",
   "id": "e5b0be17",
   "metadata": {},
   "source": [
    "### Задание №4\n",
    "Дан текстовый файл с программой на алгоритмическом языке. За один просмотр файла проверить баланс круглых скобок в тексте, используя стек."
   ]
  },
  {
   "cell_type": "code",
   "execution_count": 17,
   "id": "5b1df60a",
   "metadata": {},
   "outputs": [
    {
     "data": {
      "text/plain": [
       "True"
      ]
     },
     "execution_count": 17,
     "metadata": {},
     "output_type": "execute_result"
    }
   ],
   "source": [
    "def task4(inp):\n",
    "    buffer = Stack()\n",
    "    for i in inp:\n",
    "        if i == '(':\n",
    "            buffer.add(i)\n",
    "            continue\n",
    "        elif i == ')':\n",
    "            if not buffer.is_empty() and buffer.pop() == '(':\n",
    "                continue\n",
    "            return False\n",
    "        continue\n",
    "    return buffer.is_empty()\n",
    "\n",
    "\n",
    "test = ' '.join(open_file_and_read_lines('./inputs4lab/task4.txt'))\n",
    "\n",
    "task4(test)"
   ]
  },
  {
   "cell_type": "markdown",
   "id": "c44cdd6b",
   "metadata": {},
   "source": [
    "### Задание №5\n",
    "Дан текстовый файл с программой на алгоритмическом языке. За один просмотр файла проверить баланс квадратных скобок в тексте, используя дек."
   ]
  },
  {
   "cell_type": "code",
   "execution_count": 24,
   "id": "36b8f400",
   "metadata": {},
   "outputs": [
    {
     "data": {
      "text/plain": [
       "False"
      ]
     },
     "execution_count": 24,
     "metadata": {},
     "output_type": "execute_result"
    }
   ],
   "source": [
    "def task5(inp):\n",
    "    buffer = Deque()\n",
    "    for i in inp:\n",
    "        if i == '[':\n",
    "            buffer.addFront(i)\n",
    "            continue\n",
    "        elif i == ']':\n",
    "            if not buffer.isEmpty() and buffer.removeFront() == '[':\n",
    "                buffer.addFront('[')\n",
    "                buffer.addRear(']')\n",
    "                continue\n",
    "            return False\n",
    "        continue\n",
    "\n",
    "    for i in range(len(buffer.items) // 2):\n",
    "        buffer.removeFront()\n",
    "        buffer.removeRear()\n",
    "\n",
    "    return buffer.isEmpty()\n",
    "\n",
    "\n",
    "test = ' '.join(open_file_and_read_lines('./inputs4lab/task4.txt'))\n",
    "\n",
    "task5(test)"
   ]
  },
  {
   "cell_type": "markdown",
   "id": "59d13dc7",
   "metadata": {},
   "source": [
    "### Задание №6\n",
    "Дан файл из символов. Используя стек, за один просмотр файла напечатать сначала все цифры, затем все буквы, и, наконец, все остальные символы, сохраняя исходный порядок в каждой группе символов."
   ]
  },
  {
   "cell_type": "code",
   "execution_count": 64,
   "id": "297e36c2",
   "metadata": {},
   "outputs": [
    {
     "name": "stdout",
     "output_type": "stream",
     "text": [
      "&&&!^@#&!@(#*&^^!^\n"
     ]
    },
    {
     "data": {
      "text/plain": [
       "'123123123aqsadadsajhfdasdad&&&!^@#&!@(#*&^^!^'"
      ]
     },
     "execution_count": 64,
     "metadata": {},
     "output_type": "execute_result"
    }
   ],
   "source": [
    "def task6(inp):\n",
    "    txt = list(inp)\n",
    "    res = []\n",
    "    stack = Stack()\n",
    "\n",
    "    for i in txt.copy():\n",
    "        if i.isdigit():\n",
    "            stack.add(i)\n",
    "            txt.remove(i)\n",
    "        elif i.isalpha():\n",
    "            res.append(i)\n",
    "            txt.remove(i)\n",
    "\n",
    "\n",
    "    print(''.join(txt))\n",
    "\n",
    "    for i in range(len(stack.storage)):\n",
    "        res.insert(0, stack.pop())\n",
    "    for i in txt.copy():\n",
    "        res.append(txt.pop(0))\n",
    "\n",
    "    return ''.join(res)\n",
    "\n",
    "task6('aqsadad123123sajhf&&&!^@#&d1asd2!@(#*&3ad^^!^')\n"
   ]
  },
  {
   "cell_type": "markdown",
   "id": "973f68bd",
   "metadata": {},
   "source": [
    "### Задание №7\n",
    "Дан файл из целых чисел. Используя дек, за один просмотр файла напечатать сначала все отрицательные числа, затем все положительные числа, сохраняя исходный порядок в каждой группе."
   ]
  },
  {
   "cell_type": "code",
   "execution_count": 28,
   "id": "c56fad66",
   "metadata": {},
   "outputs": [
    {
     "data": {
      "text/plain": [
       "'-1 -2 -5 -10 -1 -6 3 4 1 2 7'"
      ]
     },
     "execution_count": 28,
     "metadata": {},
     "output_type": "execute_result"
    }
   ],
   "source": [
    "def task7(inp):\n",
    "    result = []\n",
    "    deq = Deque()\n",
    "    for i in inp.split(' '):\n",
    "        if int(i) < 0:\n",
    "            result.append(i)\n",
    "        else:\n",
    "            deq.addRear(i)\n",
    "    for i in range(deq.size()):\n",
    "        result.append(deq.removeFront())\n",
    "\n",
    "    return ' '.join(result)\n",
    "\n",
    "task7('-1 -2 3 -5 -10 4 1 2 -1 -6 7')"
   ]
  },
  {
   "cell_type": "markdown",
   "id": "b9228191",
   "metadata": {},
   "source": [
    "### Задание №8\n",
    "Дан текстовый файл. Используя стек, сформировать новый текстовый файл, содержащий строки исходного файла, записанные в обратном порядке: первая строка становится последней, вторая – предпоследней и т.д."
   ]
  },
  {
   "cell_type": "code",
   "execution_count": 69,
   "id": "981fbdfe",
   "metadata": {},
   "outputs": [
    {
     "data": {
      "text/plain": [
       "'4\\n    3\\n    2\\n    1'"
      ]
     },
     "execution_count": 69,
     "metadata": {},
     "output_type": "execute_result"
    }
   ],
   "source": [
    "def task8(inp):\n",
    "    lines = inp.split('\\n')\n",
    "    stack = Stack()\n",
    "    res = []\n",
    "    for i in lines:\n",
    "        stack.add(i)\n",
    "    while not stack.is_empty():\n",
    "        res.append(stack.pop())\n",
    "\n",
    "    return \"\"\"\n",
    "    \"\"\".join(res)\n",
    "\n",
    "task8(\"\"\"1\n",
    "2\n",
    "3\n",
    "4\"\"\")"
   ]
  },
  {
   "cell_type": "markdown",
   "id": "rental-jerusalem",
   "metadata": {},
   "source": [
    "### Вывод\n"
   ]
  },
  {
   "cell_type": "markdown",
   "id": "0c2b8899",
   "metadata": {},
   "source": []
  }
 ],
 "metadata": {
  "kernelspec": {
   "display_name": "Python 3 (ipykernel)",
   "language": "python",
   "name": "python3"
  },
  "language_info": {
   "codemirror_mode": {
    "name": "ipython",
    "version": 3
   },
   "file_extension": ".py",
   "mimetype": "text/x-python",
   "name": "python",
   "nbconvert_exporter": "python",
   "pygments_lexer": "ipython3",
   "version": "3.10.2"
  }
 },
 "nbformat": 4,
 "nbformat_minor": 5
}
